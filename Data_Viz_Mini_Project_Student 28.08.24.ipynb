{
 "cells": [
  {
   "cell_type": "markdown",
   "id": "33f88234",
   "metadata": {},
   "source": [
    "# Project Name: Movie Analysis\n",
    "\n",
    "## Project Purpose:\n",
    "\n",
    "The aim of this project is to conduct a mini Exploratory Data Analysis (EDA) and explore relationships between different movies by using various data visualization libraries on movie data.\n",
    "\n",
    "## Dataset:\n",
    "\n",
    "The dataset to be used in the study is the \"IMDB-Movie-Data\" dataset, which includes movies made between 2006-2016. The dataset contains the highest-rated movies on IMDB by year. Each movie in the dataset includes the following variables:\n",
    "\n",
    "- Rank\n",
    "- Title\n",
    "- Genre\n",
    "- Description\n",
    "- Director\n",
    "- Actors\n",
    "- Year\n",
    "- Runtime (Minutes)\n",
    "- Rating\n",
    "- Votes\n",
    "- Revenue (Millions)\n",
    "- Metascore\n",
    "\n",
    "Within this scope, you are required to complete the following tasks:\n",
    "\n",
    "## Tasks:\n",
    "\n",
    "### 1. Load the dataset using the pandas library and set the movie title as the index column.\n",
    "\n",
    "### 2. Get familiar with the dataset.\n",
    "\n",
    "### 3. Make the column names more user-friendly (e.g., shorten them, use lowercase).\n",
    "\n",
    "### 4. Identify Missing Values and address them as follows:\n",
    "   a. Check for missing values using both pandas and missingno libraries.\n",
    "   b. Fill high missing value variables with the average score of the variable.\n",
    "   c. Remove observations from variables with low missing values.\n",
    "   d. Recheck for missing values using both pandas and missingno libraries and assign this cleaned dataset to a new variable.\n",
    "\n",
    "### 5. From the cleaned dataset, select the top 250 movies with the highest ratings to create a new dataset named \"top250\" and save it to your local directory. Read this new dataset again using the pandas library.\n",
    "\n",
    "### 6. Examine the size and characteristics of the dataset.\n",
    "   a. Check the size of the dataset.\n",
    "   b. View the first 5 observations of the dataset.\n",
    "   c. Randomly view 10 observations.\n",
    "   d. Review the columns of the dataset.\n",
    "   e. Display summary statistics of the dataset.\n",
    "\n",
    "### 7. Check the accuracy and presence of missing values in the data.\n",
    "   a. Check for missing values similarly as in Task 4.\n",
    "\n",
    "### 8. Visualize the data:\n",
    "\n",
    "   a. Using the Matplotlib library, create a line graph showing the number of movies by year.\n",
    "   b. Using the Seaborn library, display the top 10 most produced movie genres in a bar graph.\n",
    "   c. Using both Matplotlib and Plotly libraries, create two separate pie charts showing the number of movies by genre.\n",
    "\n",
    "### 9. Visualize relationships:\n",
    "\n",
    "   a. Using the Seaborn library, draw a heatmap showing the correlation of numeric variables in the dataset.\n",
    "   b. Using Seaborn, visualize the top 20 actors who have appeared in multiple movies based on the number of movies they have starred in. Note: For this question, use the dataset with 936 rows.\n",
    "   c. Using the Plotly library, create a bubble chart showing the revenue of the top 250 popular movies based on their rating scores.\n",
    "\n",
    "### 10. Present Results:\n",
    "\n",
    "   Write down your findings from all the visualizations drawn. \n"
   ]
  },
  {
   "cell_type": "markdown",
   "id": "cc4a7cb6",
   "metadata": {},
   "source": [
    "The dataset contains information on 1,000 movies. There are a total of 12 columns in the dataset.\n",
    "\n",
    "1. **Rank**: Movie ranking.\n",
    "2. **Title**: Movie title.\n",
    "3. **Genre**: Movie genre.\n",
    "4. **Description**: Movie description.\n",
    "5. **Director**: Director's name.\n",
    "6. **Actors**: Names of the actors.\n",
    "7. **Year**: Release year.\n",
    "8. **Runtime (Minutes)**: Movie duration (in minutes).\n",
    "9. **Rating**: IMDb rating.\n",
    "10. **Votes**: Number of votes.\n",
    "11. **Revenue (Millions)**: Revenue (in millions of dollars).\n",
    "12. **Metascore**: Metascore rating. \n"
   ]
  },
  {
   "cell_type": "markdown",
   "id": "ac4e6773",
   "metadata": {},
   "source": [
    "## 1. Load the dataset using the pandas library and set the movie title as the index column."
   ]
  },
  {
   "cell_type": "code",
   "execution_count": 1,
   "id": "d6c9b8ba",
   "metadata": {
    "ExecuteTime": {
     "end_time": "2023-09-24T15:08:58.278817Z",
     "start_time": "2023-09-24T15:08:53.272431Z"
    }
   },
   "outputs": [],
   "source": [
    "import numpy as np\n",
    "import pandas as pd\n",
    "import matplotlib.pyplot as plt\n",
    "import seaborn as sns\n",
    "import plotly.express as px\n",
    "\n",
    "# Load dataset\n",
    "df = pd.read_csv(\"IMDB-Movie-Data.csv\", index_col=\"Title\")"
   ]
  },
  {
   "cell_type": "markdown",
   "id": "b98832d1",
   "metadata": {},
   "source": [
    "## 2. Display the first few rows of the dataset."
   ]
  },
  {
   "cell_type": "code",
   "execution_count": 2,
   "id": "08fce3a3",
   "metadata": {},
   "outputs": [
    {
     "data": {
      "text/html": [
       "<div>\n",
       "<style scoped>\n",
       "    .dataframe tbody tr th:only-of-type {\n",
       "        vertical-align: middle;\n",
       "    }\n",
       "\n",
       "    .dataframe tbody tr th {\n",
       "        vertical-align: top;\n",
       "    }\n",
       "\n",
       "    .dataframe thead th {\n",
       "        text-align: right;\n",
       "    }\n",
       "</style>\n",
       "<table border=\"1\" class=\"dataframe\">\n",
       "  <thead>\n",
       "    <tr style=\"text-align: right;\">\n",
       "      <th></th>\n",
       "      <th>Rank</th>\n",
       "      <th>Genre</th>\n",
       "      <th>Description</th>\n",
       "      <th>Director</th>\n",
       "      <th>Actors</th>\n",
       "      <th>Year</th>\n",
       "      <th>Runtime (Minutes)</th>\n",
       "      <th>Rating</th>\n",
       "      <th>Votes</th>\n",
       "      <th>Revenue (Millions)</th>\n",
       "      <th>Metascore</th>\n",
       "    </tr>\n",
       "    <tr>\n",
       "      <th>Title</th>\n",
       "      <th></th>\n",
       "      <th></th>\n",
       "      <th></th>\n",
       "      <th></th>\n",
       "      <th></th>\n",
       "      <th></th>\n",
       "      <th></th>\n",
       "      <th></th>\n",
       "      <th></th>\n",
       "      <th></th>\n",
       "      <th></th>\n",
       "    </tr>\n",
       "  </thead>\n",
       "  <tbody>\n",
       "    <tr>\n",
       "      <th>Guardians of the Galaxy</th>\n",
       "      <td>1</td>\n",
       "      <td>Action,Adventure,Sci-Fi</td>\n",
       "      <td>A group of intergalactic criminals are forced ...</td>\n",
       "      <td>James Gunn</td>\n",
       "      <td>Chris Pratt, Vin Diesel, Bradley Cooper, Zoe S...</td>\n",
       "      <td>2014</td>\n",
       "      <td>121</td>\n",
       "      <td>8.1</td>\n",
       "      <td>757074</td>\n",
       "      <td>333.13</td>\n",
       "      <td>76.0</td>\n",
       "    </tr>\n",
       "    <tr>\n",
       "      <th>Prometheus</th>\n",
       "      <td>2</td>\n",
       "      <td>Adventure,Mystery,Sci-Fi</td>\n",
       "      <td>Following clues to the origin of mankind, a te...</td>\n",
       "      <td>Ridley Scott</td>\n",
       "      <td>Noomi Rapace, Logan Marshall-Green, Michael Fa...</td>\n",
       "      <td>2012</td>\n",
       "      <td>124</td>\n",
       "      <td>7.0</td>\n",
       "      <td>485820</td>\n",
       "      <td>126.46</td>\n",
       "      <td>65.0</td>\n",
       "    </tr>\n",
       "    <tr>\n",
       "      <th>Split</th>\n",
       "      <td>3</td>\n",
       "      <td>Horror,Thriller</td>\n",
       "      <td>Three girls are kidnapped by a man with a diag...</td>\n",
       "      <td>M. Night Shyamalan</td>\n",
       "      <td>James McAvoy, Anya Taylor-Joy, Haley Lu Richar...</td>\n",
       "      <td>2016</td>\n",
       "      <td>117</td>\n",
       "      <td>7.3</td>\n",
       "      <td>157606</td>\n",
       "      <td>138.12</td>\n",
       "      <td>62.0</td>\n",
       "    </tr>\n",
       "    <tr>\n",
       "      <th>Sing</th>\n",
       "      <td>4</td>\n",
       "      <td>Animation,Comedy,Family</td>\n",
       "      <td>In a city of humanoid animals, a hustling thea...</td>\n",
       "      <td>Christophe Lourdelet</td>\n",
       "      <td>Matthew McConaughey,Reese Witherspoon, Seth Ma...</td>\n",
       "      <td>2016</td>\n",
       "      <td>108</td>\n",
       "      <td>7.2</td>\n",
       "      <td>60545</td>\n",
       "      <td>270.32</td>\n",
       "      <td>59.0</td>\n",
       "    </tr>\n",
       "    <tr>\n",
       "      <th>Suicide Squad</th>\n",
       "      <td>5</td>\n",
       "      <td>Action,Adventure,Fantasy</td>\n",
       "      <td>A secret government agency recruits some of th...</td>\n",
       "      <td>David Ayer</td>\n",
       "      <td>Will Smith, Jared Leto, Margot Robbie, Viola D...</td>\n",
       "      <td>2016</td>\n",
       "      <td>123</td>\n",
       "      <td>6.2</td>\n",
       "      <td>393727</td>\n",
       "      <td>325.02</td>\n",
       "      <td>40.0</td>\n",
       "    </tr>\n",
       "  </tbody>\n",
       "</table>\n",
       "</div>"
      ],
      "text/plain": [
       "                         Rank                     Genre  \\\n",
       "Title                                                     \n",
       "Guardians of the Galaxy     1   Action,Adventure,Sci-Fi   \n",
       "Prometheus                  2  Adventure,Mystery,Sci-Fi   \n",
       "Split                       3           Horror,Thriller   \n",
       "Sing                        4   Animation,Comedy,Family   \n",
       "Suicide Squad               5  Action,Adventure,Fantasy   \n",
       "\n",
       "                                                               Description  \\\n",
       "Title                                                                        \n",
       "Guardians of the Galaxy  A group of intergalactic criminals are forced ...   \n",
       "Prometheus               Following clues to the origin of mankind, a te...   \n",
       "Split                    Three girls are kidnapped by a man with a diag...   \n",
       "Sing                     In a city of humanoid animals, a hustling thea...   \n",
       "Suicide Squad            A secret government agency recruits some of th...   \n",
       "\n",
       "                                     Director  \\\n",
       "Title                                           \n",
       "Guardians of the Galaxy            James Gunn   \n",
       "Prometheus                       Ridley Scott   \n",
       "Split                      M. Night Shyamalan   \n",
       "Sing                     Christophe Lourdelet   \n",
       "Suicide Squad                      David Ayer   \n",
       "\n",
       "                                                                    Actors  \\\n",
       "Title                                                                        \n",
       "Guardians of the Galaxy  Chris Pratt, Vin Diesel, Bradley Cooper, Zoe S...   \n",
       "Prometheus               Noomi Rapace, Logan Marshall-Green, Michael Fa...   \n",
       "Split                    James McAvoy, Anya Taylor-Joy, Haley Lu Richar...   \n",
       "Sing                     Matthew McConaughey,Reese Witherspoon, Seth Ma...   \n",
       "Suicide Squad            Will Smith, Jared Leto, Margot Robbie, Viola D...   \n",
       "\n",
       "                         Year  Runtime (Minutes)  Rating   Votes  \\\n",
       "Title                                                              \n",
       "Guardians of the Galaxy  2014                121     8.1  757074   \n",
       "Prometheus               2012                124     7.0  485820   \n",
       "Split                    2016                117     7.3  157606   \n",
       "Sing                     2016                108     7.2   60545   \n",
       "Suicide Squad            2016                123     6.2  393727   \n",
       "\n",
       "                         Revenue (Millions)  Metascore  \n",
       "Title                                                   \n",
       "Guardians of the Galaxy              333.13       76.0  \n",
       "Prometheus                           126.46       65.0  \n",
       "Split                                138.12       62.0  \n",
       "Sing                                 270.32       59.0  \n",
       "Suicide Squad                        325.02       40.0  "
      ]
     },
     "execution_count": 2,
     "metadata": {},
     "output_type": "execute_result"
    }
   ],
   "source": [
    "df.head()"
   ]
  },
  {
   "cell_type": "code",
   "execution_count": 3,
   "id": "33c2ff9d",
   "metadata": {},
   "outputs": [
    {
     "name": "stdout",
     "output_type": "stream",
     "text": [
      "<class 'pandas.core.frame.DataFrame'>\n",
      "Index: 1000 entries, Guardians of the Galaxy to Nine Lives\n",
      "Data columns (total 11 columns):\n",
      " #   Column              Non-Null Count  Dtype  \n",
      "---  ------              --------------  -----  \n",
      " 0   Rank                1000 non-null   int64  \n",
      " 1   Genre               1000 non-null   object \n",
      " 2   Description         1000 non-null   object \n",
      " 3   Director            1000 non-null   object \n",
      " 4   Actors              1000 non-null   object \n",
      " 5   Year                1000 non-null   int64  \n",
      " 6   Runtime (Minutes)   1000 non-null   int64  \n",
      " 7   Rating              1000 non-null   float64\n",
      " 8   Votes               1000 non-null   int64  \n",
      " 9   Revenue (Millions)  872 non-null    float64\n",
      " 10  Metascore           936 non-null    float64\n",
      "dtypes: float64(3), int64(4), object(4)\n",
      "memory usage: 93.8+ KB\n"
     ]
    }
   ],
   "source": [
    "df.info()"
   ]
  },
  {
   "cell_type": "markdown",
   "id": "fc7b9a43",
   "metadata": {},
   "source": [
    "## 3. Make the column names in the dataset more user-friendly (e.g., shorten them, use lowercase)."
   ]
  },
  {
   "cell_type": "code",
   "execution_count": 4,
   "id": "8089473e",
   "metadata": {},
   "outputs": [
    {
     "data": {
      "text/plain": [
       "Index(['Rank', 'Genre', 'Description', 'Director', 'Actors', 'Year',\n",
       "       'Runtime (Minutes)', 'Rating', 'Votes', 'Revenue (Millions)',\n",
       "       'Metascore'],\n",
       "      dtype='object')"
      ]
     },
     "execution_count": 4,
     "metadata": {},
     "output_type": "execute_result"
    }
   ],
   "source": [
    "df.columns"
   ]
  },
  {
   "cell_type": "code",
   "execution_count": 5,
   "id": "03fdab63",
   "metadata": {},
   "outputs": [
    {
     "data": {
      "text/plain": [
       "Index(['rank', 'genre', 'description', 'director', 'actors', 'year', 'runtime',\n",
       "       'rating', 'votes', 'revenue', 'metascore'],\n",
       "      dtype='object')"
      ]
     },
     "execution_count": 5,
     "metadata": {},
     "output_type": "execute_result"
    }
   ],
   "source": [
    "df.columns = ['rank', 'genre', 'description', 'director', 'actors', 'year',\n",
    "       'runtime', 'rating', 'votes', 'revenue',\n",
    "       'metascore']\n",
    "\n",
    "df.columns"
   ]
  },
  {
   "cell_type": "code",
   "execution_count": 6,
   "id": "8d59a42f",
   "metadata": {},
   "outputs": [
    {
     "data": {
      "text/plain": [
       "Index(['rank', 'genre', 'description', 'director', 'actors', 'year', 'runtime',\n",
       "       'rating', 'votes', 'revenue', 'metascore'],\n",
       "      dtype='object')"
      ]
     },
     "execution_count": 6,
     "metadata": {},
     "output_type": "execute_result"
    }
   ],
   "source": [
    "# different methods\n",
    "df.columns = [col.lower() for col in df]\n",
    "\n",
    "df.columns ## Only for converting column names to lowercase."
   ]
  },
  {
   "cell_type": "markdown",
   "id": "750332aa",
   "metadata": {},
   "source": [
    "## 4. Identify Missing Values and address them as follows:\n",
    "\n",
    "We tackled missing values in two ways: filling with the mean and dropping rows.\n",
    "\n",
    "If there are too many missing values, we should avoid dropping them. We should first try to fill them.\n",
    "\n",
    "For the sake of this example, we used only dropping and filling with the mean for handling high missing values."
   ]
  },
  {
   "cell_type": "markdown",
   "id": "5a34f3af",
   "metadata": {},
   "source": [
    "### a. Check for missing values using both pandas and missingno libraries."
   ]
  },
  {
   "cell_type": "code",
   "execution_count": 7,
   "id": "6766d82e",
   "metadata": {},
   "outputs": [
    {
     "data": {
      "text/html": [
       "<div>\n",
       "<style scoped>\n",
       "    .dataframe tbody tr th:only-of-type {\n",
       "        vertical-align: middle;\n",
       "    }\n",
       "\n",
       "    .dataframe tbody tr th {\n",
       "        vertical-align: top;\n",
       "    }\n",
       "\n",
       "    .dataframe thead th {\n",
       "        text-align: right;\n",
       "    }\n",
       "</style>\n",
       "<table border=\"1\" class=\"dataframe\">\n",
       "  <thead>\n",
       "    <tr style=\"text-align: right;\">\n",
       "      <th></th>\n",
       "      <th>count</th>\n",
       "      <th>mean</th>\n",
       "      <th>std</th>\n",
       "      <th>min</th>\n",
       "      <th>25%</th>\n",
       "      <th>50%</th>\n",
       "      <th>75%</th>\n",
       "      <th>max</th>\n",
       "    </tr>\n",
       "  </thead>\n",
       "  <tbody>\n",
       "    <tr>\n",
       "      <th>rank</th>\n",
       "      <td>1000.0</td>\n",
       "      <td>500.500000</td>\n",
       "      <td>288.819436</td>\n",
       "      <td>1.0</td>\n",
       "      <td>250.75</td>\n",
       "      <td>500.500</td>\n",
       "      <td>750.250</td>\n",
       "      <td>1000.00</td>\n",
       "    </tr>\n",
       "    <tr>\n",
       "      <th>year</th>\n",
       "      <td>1000.0</td>\n",
       "      <td>2012.783000</td>\n",
       "      <td>3.205962</td>\n",
       "      <td>2006.0</td>\n",
       "      <td>2010.00</td>\n",
       "      <td>2014.000</td>\n",
       "      <td>2016.000</td>\n",
       "      <td>2016.00</td>\n",
       "    </tr>\n",
       "    <tr>\n",
       "      <th>runtime</th>\n",
       "      <td>1000.0</td>\n",
       "      <td>113.172000</td>\n",
       "      <td>18.810908</td>\n",
       "      <td>66.0</td>\n",
       "      <td>100.00</td>\n",
       "      <td>111.000</td>\n",
       "      <td>123.000</td>\n",
       "      <td>191.00</td>\n",
       "    </tr>\n",
       "    <tr>\n",
       "      <th>rating</th>\n",
       "      <td>1000.0</td>\n",
       "      <td>6.723200</td>\n",
       "      <td>0.945429</td>\n",
       "      <td>1.9</td>\n",
       "      <td>6.20</td>\n",
       "      <td>6.800</td>\n",
       "      <td>7.400</td>\n",
       "      <td>9.00</td>\n",
       "    </tr>\n",
       "    <tr>\n",
       "      <th>votes</th>\n",
       "      <td>1000.0</td>\n",
       "      <td>169808.255000</td>\n",
       "      <td>188762.647518</td>\n",
       "      <td>61.0</td>\n",
       "      <td>36309.00</td>\n",
       "      <td>110799.000</td>\n",
       "      <td>239909.750</td>\n",
       "      <td>1791916.00</td>\n",
       "    </tr>\n",
       "    <tr>\n",
       "      <th>revenue</th>\n",
       "      <td>872.0</td>\n",
       "      <td>82.956376</td>\n",
       "      <td>103.253540</td>\n",
       "      <td>0.0</td>\n",
       "      <td>13.27</td>\n",
       "      <td>47.985</td>\n",
       "      <td>113.715</td>\n",
       "      <td>936.63</td>\n",
       "    </tr>\n",
       "    <tr>\n",
       "      <th>metascore</th>\n",
       "      <td>936.0</td>\n",
       "      <td>58.985043</td>\n",
       "      <td>17.194757</td>\n",
       "      <td>11.0</td>\n",
       "      <td>47.00</td>\n",
       "      <td>59.500</td>\n",
       "      <td>72.000</td>\n",
       "      <td>100.00</td>\n",
       "    </tr>\n",
       "  </tbody>\n",
       "</table>\n",
       "</div>"
      ],
      "text/plain": [
       "            count           mean            std     min       25%         50%  \\\n",
       "rank       1000.0     500.500000     288.819436     1.0    250.75     500.500   \n",
       "year       1000.0    2012.783000       3.205962  2006.0   2010.00    2014.000   \n",
       "runtime    1000.0     113.172000      18.810908    66.0    100.00     111.000   \n",
       "rating     1000.0       6.723200       0.945429     1.9      6.20       6.800   \n",
       "votes      1000.0  169808.255000  188762.647518    61.0  36309.00  110799.000   \n",
       "revenue     872.0      82.956376     103.253540     0.0     13.27      47.985   \n",
       "metascore   936.0      58.985043      17.194757    11.0     47.00      59.500   \n",
       "\n",
       "                  75%         max  \n",
       "rank          750.250     1000.00  \n",
       "year         2016.000     2016.00  \n",
       "runtime       123.000      191.00  \n",
       "rating          7.400        9.00  \n",
       "votes      239909.750  1791916.00  \n",
       "revenue       113.715      936.63  \n",
       "metascore      72.000      100.00  "
      ]
     },
     "execution_count": 7,
     "metadata": {},
     "output_type": "execute_result"
    }
   ],
   "source": [
    "df.describe().T"
   ]
  },
  {
   "cell_type": "code",
   "execution_count": 8,
   "id": "940d79ee",
   "metadata": {},
   "outputs": [
    {
     "data": {
      "text/plain": [
       "rank             0\n",
       "genre            0\n",
       "description      0\n",
       "director         0\n",
       "actors           0\n",
       "year             0\n",
       "runtime          0\n",
       "rating           0\n",
       "votes            0\n",
       "revenue        128\n",
       "metascore       64\n",
       "dtype: int64"
      ]
     },
     "execution_count": 8,
     "metadata": {},
     "output_type": "execute_result"
    }
   ],
   "source": [
    "df.isnull().sum()"
   ]
  },
  {
   "cell_type": "code",
   "execution_count": 9,
   "id": "1a552a08",
   "metadata": {},
   "outputs": [
    {
     "data": {
      "image/png": "[encoded data removed]",
      "text/plain": [
       "<Figure size 2500x1000 with 2 Axes>"
      ]
     },
     "metadata": {},
     "output_type": "display_data"
    }
   ],
   "source": [
    "import missingno as msno\n",
    "msno.matrix(df);"
   ]
  },
  {
   "cell_type": "markdown",
   "id": "bf3e092c",
   "metadata": {},
   "source": [
    "### b. Fill the variables with high missing values with the mean score of that variable."
   ]
  },
  {
   "cell_type": "code",
   "execution_count": 10,
   "id": "2615a167",
   "metadata": {},
   "outputs": [
    {
     "data": {
      "text/plain": [
       "Title\n",
       "Guardians of the Galaxy    333.13\n",
       "Prometheus                 126.46\n",
       "Split                      138.12\n",
       "Sing                       270.32\n",
       "Suicide Squad              325.02\n",
       "                            ...  \n",
       "Secret in Their Eyes          NaN\n",
       "Hostel: Part II             17.54\n",
       "Step Up 2: The Streets      58.01\n",
       "Search Party                  NaN\n",
       "Nine Lives                  19.64\n",
       "Name: revenue, Length: 1000, dtype: float64"
      ]
     },
     "execution_count": 10,
     "metadata": {},
     "output_type": "execute_result"
    }
   ],
   "source": [
    "df.revenue"
   ]
  },
  {
   "cell_type": "code",
   "execution_count": 11,
   "id": "79ecbc2c",
   "metadata": {},
   "outputs": [
    {
     "data": {
      "text/plain": [
       "82.95637614678898"
      ]
     },
     "execution_count": 11,
     "metadata": {},
     "output_type": "execute_result"
    }
   ],
   "source": [
    "df.revenue.mean()"
   ]
  },
  {
   "cell_type": "code",
   "execution_count": 12,
   "id": "330e3866",
   "metadata": {},
   "outputs": [],
   "source": [
    "df.revenue.fillna(df.revenue.mean(), inplace=True) # null degerleri mean() ile doldurduk"
   ]
  },
  {
   "cell_type": "code",
   "execution_count": 13,
   "id": "0e04f1d9",
   "metadata": {},
   "outputs": [
    {
     "data": {
      "text/plain": [
       "0"
      ]
     },
     "execution_count": 13,
     "metadata": {},
     "output_type": "execute_result"
    }
   ],
   "source": [
    "df.revenue.isnull().sum()"
   ]
  },
  {
   "cell_type": "markdown",
   "id": "f0d31e37",
   "metadata": {},
   "source": [
    "### c. Observations in the variable with low missing value should be removed."
   ]
  },
  {
   "cell_type": "code",
   "execution_count": 14,
   "id": "5418066c",
   "metadata": {},
   "outputs": [
    {
     "data": {
      "text/html": [
       "<div>\n",
       "<style scoped>\n",
       "    .dataframe tbody tr th:only-of-type {\n",
       "        vertical-align: middle;\n",
       "    }\n",
       "\n",
       "    .dataframe tbody tr th {\n",
       "        vertical-align: top;\n",
       "    }\n",
       "\n",
       "    .dataframe thead th {\n",
       "        text-align: right;\n",
       "    }\n",
       "</style>\n",
       "<table border=\"1\" class=\"dataframe\">\n",
       "  <thead>\n",
       "    <tr style=\"text-align: right;\">\n",
       "      <th></th>\n",
       "      <th>rank</th>\n",
       "      <th>genre</th>\n",
       "      <th>description</th>\n",
       "      <th>director</th>\n",
       "      <th>actors</th>\n",
       "      <th>year</th>\n",
       "      <th>runtime</th>\n",
       "      <th>rating</th>\n",
       "      <th>votes</th>\n",
       "      <th>revenue</th>\n",
       "      <th>metascore</th>\n",
       "    </tr>\n",
       "    <tr>\n",
       "      <th>Title</th>\n",
       "      <th></th>\n",
       "      <th></th>\n",
       "      <th></th>\n",
       "      <th></th>\n",
       "      <th></th>\n",
       "      <th></th>\n",
       "      <th></th>\n",
       "      <th></th>\n",
       "      <th></th>\n",
       "      <th></th>\n",
       "      <th></th>\n",
       "    </tr>\n",
       "  </thead>\n",
       "  <tbody>\n",
       "    <tr>\n",
       "      <th>Guardians of the Galaxy</th>\n",
       "      <td>1</td>\n",
       "      <td>Action,Adventure,Sci-Fi</td>\n",
       "      <td>A group of intergalactic criminals are forced ...</td>\n",
       "      <td>James Gunn</td>\n",
       "      <td>Chris Pratt, Vin Diesel, Bradley Cooper, Zoe S...</td>\n",
       "      <td>2014</td>\n",
       "      <td>121</td>\n",
       "      <td>8.1</td>\n",
       "      <td>757074</td>\n",
       "      <td>333.130000</td>\n",
       "      <td>76.0</td>\n",
       "    </tr>\n",
       "    <tr>\n",
       "      <th>Prometheus</th>\n",
       "      <td>2</td>\n",
       "      <td>Adventure,Mystery,Sci-Fi</td>\n",
       "      <td>Following clues to the origin of mankind, a te...</td>\n",
       "      <td>Ridley Scott</td>\n",
       "      <td>Noomi Rapace, Logan Marshall-Green, Michael Fa...</td>\n",
       "      <td>2012</td>\n",
       "      <td>124</td>\n",
       "      <td>7.0</td>\n",
       "      <td>485820</td>\n",
       "      <td>126.460000</td>\n",
       "      <td>65.0</td>\n",
       "    </tr>\n",
       "    <tr>\n",
       "      <th>Split</th>\n",
       "      <td>3</td>\n",
       "      <td>Horror,Thriller</td>\n",
       "      <td>Three girls are kidnapped by a man with a diag...</td>\n",
       "      <td>M. Night Shyamalan</td>\n",
       "      <td>James McAvoy, Anya Taylor-Joy, Haley Lu Richar...</td>\n",
       "      <td>2016</td>\n",
       "      <td>117</td>\n",
       "      <td>7.3</td>\n",
       "      <td>157606</td>\n",
       "      <td>138.120000</td>\n",
       "      <td>62.0</td>\n",
       "    </tr>\n",
       "    <tr>\n",
       "      <th>Sing</th>\n",
       "      <td>4</td>\n",
       "      <td>Animation,Comedy,Family</td>\n",
       "      <td>In a city of humanoid animals, a hustling thea...</td>\n",
       "      <td>Christophe Lourdelet</td>\n",
       "      <td>Matthew McConaughey,Reese Witherspoon, Seth Ma...</td>\n",
       "      <td>2016</td>\n",
       "      <td>108</td>\n",
       "      <td>7.2</td>\n",
       "      <td>60545</td>\n",
       "      <td>270.320000</td>\n",
       "      <td>59.0</td>\n",
       "    </tr>\n",
       "    <tr>\n",
       "      <th>Suicide Squad</th>\n",
       "      <td>5</td>\n",
       "      <td>Action,Adventure,Fantasy</td>\n",
       "      <td>A secret government agency recruits some of th...</td>\n",
       "      <td>David Ayer</td>\n",
       "      <td>Will Smith, Jared Leto, Margot Robbie, Viola D...</td>\n",
       "      <td>2016</td>\n",
       "      <td>123</td>\n",
       "      <td>6.2</td>\n",
       "      <td>393727</td>\n",
       "      <td>325.020000</td>\n",
       "      <td>40.0</td>\n",
       "    </tr>\n",
       "    <tr>\n",
       "      <th>...</th>\n",
       "      <td>...</td>\n",
       "      <td>...</td>\n",
       "      <td>...</td>\n",
       "      <td>...</td>\n",
       "      <td>...</td>\n",
       "      <td>...</td>\n",
       "      <td>...</td>\n",
       "      <td>...</td>\n",
       "      <td>...</td>\n",
       "      <td>...</td>\n",
       "      <td>...</td>\n",
       "    </tr>\n",
       "    <tr>\n",
       "      <th>Secret in Their Eyes</th>\n",
       "      <td>996</td>\n",
       "      <td>Crime,Drama,Mystery</td>\n",
       "      <td>A tight-knit team of rising investigators, alo...</td>\n",
       "      <td>Billy Ray</td>\n",
       "      <td>Chiwetel Ejiofor, Nicole Kidman, Julia Roberts...</td>\n",
       "      <td>2015</td>\n",
       "      <td>111</td>\n",
       "      <td>6.2</td>\n",
       "      <td>27585</td>\n",
       "      <td>82.956376</td>\n",
       "      <td>45.0</td>\n",
       "    </tr>\n",
       "    <tr>\n",
       "      <th>Hostel: Part II</th>\n",
       "      <td>997</td>\n",
       "      <td>Horror</td>\n",
       "      <td>Three American college students studying abroa...</td>\n",
       "      <td>Eli Roth</td>\n",
       "      <td>Lauren German, Heather Matarazzo, Bijou Philli...</td>\n",
       "      <td>2007</td>\n",
       "      <td>94</td>\n",
       "      <td>5.5</td>\n",
       "      <td>73152</td>\n",
       "      <td>17.540000</td>\n",
       "      <td>46.0</td>\n",
       "    </tr>\n",
       "    <tr>\n",
       "      <th>Step Up 2: The Streets</th>\n",
       "      <td>998</td>\n",
       "      <td>Drama,Music,Romance</td>\n",
       "      <td>Romantic sparks occur between two dance studen...</td>\n",
       "      <td>Jon M. Chu</td>\n",
       "      <td>Robert Hoffman, Briana Evigan, Cassie Ventura,...</td>\n",
       "      <td>2008</td>\n",
       "      <td>98</td>\n",
       "      <td>6.2</td>\n",
       "      <td>70699</td>\n",
       "      <td>58.010000</td>\n",
       "      <td>50.0</td>\n",
       "    </tr>\n",
       "    <tr>\n",
       "      <th>Search Party</th>\n",
       "      <td>999</td>\n",
       "      <td>Adventure,Comedy</td>\n",
       "      <td>A pair of friends embark on a mission to reuni...</td>\n",
       "      <td>Scot Armstrong</td>\n",
       "      <td>Adam Pally, T.J. Miller, Thomas Middleditch,Sh...</td>\n",
       "      <td>2014</td>\n",
       "      <td>93</td>\n",
       "      <td>5.6</td>\n",
       "      <td>4881</td>\n",
       "      <td>82.956376</td>\n",
       "      <td>22.0</td>\n",
       "    </tr>\n",
       "    <tr>\n",
       "      <th>Nine Lives</th>\n",
       "      <td>1000</td>\n",
       "      <td>Comedy,Family,Fantasy</td>\n",
       "      <td>A stuffy businessman finds himself trapped ins...</td>\n",
       "      <td>Barry Sonnenfeld</td>\n",
       "      <td>Kevin Spacey, Jennifer Garner, Robbie Amell,Ch...</td>\n",
       "      <td>2016</td>\n",
       "      <td>87</td>\n",
       "      <td>5.3</td>\n",
       "      <td>12435</td>\n",
       "      <td>19.640000</td>\n",
       "      <td>11.0</td>\n",
       "    </tr>\n",
       "  </tbody>\n",
       "</table>\n",
       "<p>936 rows × 11 columns</p>\n",
       "</div>"
      ],
      "text/plain": [
       "                         rank                     genre  \\\n",
       "Title                                                     \n",
       "Guardians of the Galaxy     1   Action,Adventure,Sci-Fi   \n",
       "Prometheus                  2  Adventure,Mystery,Sci-Fi   \n",
       "Split                       3           Horror,Thriller   \n",
       "Sing                        4   Animation,Comedy,Family   \n",
       "Suicide Squad               5  Action,Adventure,Fantasy   \n",
       "...                       ...                       ...   \n",
       "Secret in Their Eyes      996       Crime,Drama,Mystery   \n",
       "Hostel: Part II           997                    Horror   \n",
       "Step Up 2: The Streets    998       Drama,Music,Romance   \n",
       "Search Party              999          Adventure,Comedy   \n",
       "Nine Lives               1000     Comedy,Family,Fantasy   \n",
       "\n",
       "                                                               description  \\\n",
       "Title                                                                        \n",
       "Guardians of the Galaxy  A group of intergalactic criminals are forced ...   \n",
       "Prometheus               Following clues to the origin of mankind, a te...   \n",
       "Split                    Three girls are kidnapped by a man with a diag...   \n",
       "Sing                     In a city of humanoid animals, a hustling thea...   \n",
       "Suicide Squad            A secret government agency recruits some of th...   \n",
       "...                                                                    ...   \n",
       "Secret in Their Eyes     A tight-knit team of rising investigators, alo...   \n",
       "Hostel: Part II          Three American college students studying abroa...   \n",
       "Step Up 2: The Streets   Romantic sparks occur between two dance studen...   \n",
       "Search Party             A pair of friends embark on a mission to reuni...   \n",
       "Nine Lives               A stuffy businessman finds himself trapped ins...   \n",
       "\n",
       "                                     director  \\\n",
       "Title                                           \n",
       "Guardians of the Galaxy            James Gunn   \n",
       "Prometheus                       Ridley Scott   \n",
       "Split                      M. Night Shyamalan   \n",
       "Sing                     Christophe Lourdelet   \n",
       "Suicide Squad                      David Ayer   \n",
       "...                                       ...   \n",
       "Secret in Their Eyes                Billy Ray   \n",
       "Hostel: Part II                      Eli Roth   \n",
       "Step Up 2: The Streets             Jon M. Chu   \n",
       "Search Party                   Scot Armstrong   \n",
       "Nine Lives                   Barry Sonnenfeld   \n",
       "\n",
       "                                                                    actors  \\\n",
       "Title                                                                        \n",
       "Guardians of the Galaxy  Chris Pratt, Vin Diesel, Bradley Cooper, Zoe S...   \n",
       "Prometheus               Noomi Rapace, Logan Marshall-Green, Michael Fa...   \n",
       "Split                    James McAvoy, Anya Taylor-Joy, Haley Lu Richar...   \n",
       "Sing                     Matthew McConaughey,Reese Witherspoon, Seth Ma...   \n",
       "Suicide Squad            Will Smith, Jared Leto, Margot Robbie, Viola D...   \n",
       "...                                                                    ...   \n",
       "Secret in Their Eyes     Chiwetel Ejiofor, Nicole Kidman, Julia Roberts...   \n",
       "Hostel: Part II          Lauren German, Heather Matarazzo, Bijou Philli...   \n",
       "Step Up 2: The Streets   Robert Hoffman, Briana Evigan, Cassie Ventura,...   \n",
       "Search Party             Adam Pally, T.J. Miller, Thomas Middleditch,Sh...   \n",
       "Nine Lives               Kevin Spacey, Jennifer Garner, Robbie Amell,Ch...   \n",
       "\n",
       "                         year  runtime  rating   votes     revenue  metascore  \n",
       "Title                                                                          \n",
       "Guardians of the Galaxy  2014      121     8.1  757074  333.130000       76.0  \n",
       "Prometheus               2012      124     7.0  485820  126.460000       65.0  \n",
       "Split                    2016      117     7.3  157606  138.120000       62.0  \n",
       "Sing                     2016      108     7.2   60545  270.320000       59.0  \n",
       "Suicide Squad            2016      123     6.2  393727  325.020000       40.0  \n",
       "...                       ...      ...     ...     ...         ...        ...  \n",
       "Secret in Their Eyes     2015      111     6.2   27585   82.956376       45.0  \n",
       "Hostel: Part II          2007       94     5.5   73152   17.540000       46.0  \n",
       "Step Up 2: The Streets   2008       98     6.2   70699   58.010000       50.0  \n",
       "Search Party             2014       93     5.6    4881   82.956376       22.0  \n",
       "Nine Lives               2016       87     5.3   12435   19.640000       11.0  \n",
       "\n",
       "[936 rows x 11 columns]"
      ]
     },
     "execution_count": 14,
     "metadata": {},
     "output_type": "execute_result"
    }
   ],
   "source": [
    "df.dropna()"
   ]
  },
  {
   "cell_type": "code",
   "execution_count": 15,
   "id": "fd0be5f6",
   "metadata": {},
   "outputs": [
    {
     "data": {
      "text/html": [
       "<div>\n",
       "<style scoped>\n",
       "    .dataframe tbody tr th:only-of-type {\n",
       "        vertical-align: middle;\n",
       "    }\n",
       "\n",
       "    .dataframe tbody tr th {\n",
       "        vertical-align: top;\n",
       "    }\n",
       "\n",
       "    .dataframe thead th {\n",
       "        text-align: right;\n",
       "    }\n",
       "</style>\n",
       "<table border=\"1\" class=\"dataframe\">\n",
       "  <thead>\n",
       "    <tr style=\"text-align: right;\">\n",
       "      <th></th>\n",
       "      <th>rank</th>\n",
       "      <th>genre</th>\n",
       "      <th>description</th>\n",
       "      <th>director</th>\n",
       "      <th>actors</th>\n",
       "      <th>year</th>\n",
       "      <th>runtime</th>\n",
       "      <th>rating</th>\n",
       "      <th>votes</th>\n",
       "      <th>revenue</th>\n",
       "      <th>metascore</th>\n",
       "    </tr>\n",
       "    <tr>\n",
       "      <th>Title</th>\n",
       "      <th></th>\n",
       "      <th></th>\n",
       "      <th></th>\n",
       "      <th></th>\n",
       "      <th></th>\n",
       "      <th></th>\n",
       "      <th></th>\n",
       "      <th></th>\n",
       "      <th></th>\n",
       "      <th></th>\n",
       "      <th></th>\n",
       "    </tr>\n",
       "  </thead>\n",
       "  <tbody>\n",
       "    <tr>\n",
       "      <th>Guardians of the Galaxy</th>\n",
       "      <td>1</td>\n",
       "      <td>Action,Adventure,Sci-Fi</td>\n",
       "      <td>A group of intergalactic criminals are forced ...</td>\n",
       "      <td>James Gunn</td>\n",
       "      <td>Chris Pratt, Vin Diesel, Bradley Cooper, Zoe S...</td>\n",
       "      <td>2014</td>\n",
       "      <td>121</td>\n",
       "      <td>8.1</td>\n",
       "      <td>757074</td>\n",
       "      <td>333.130000</td>\n",
       "      <td>76.0</td>\n",
       "    </tr>\n",
       "    <tr>\n",
       "      <th>Prometheus</th>\n",
       "      <td>2</td>\n",
       "      <td>Adventure,Mystery,Sci-Fi</td>\n",
       "      <td>Following clues to the origin of mankind, a te...</td>\n",
       "      <td>Ridley Scott</td>\n",
       "      <td>Noomi Rapace, Logan Marshall-Green, Michael Fa...</td>\n",
       "      <td>2012</td>\n",
       "      <td>124</td>\n",
       "      <td>7.0</td>\n",
       "      <td>485820</td>\n",
       "      <td>126.460000</td>\n",
       "      <td>65.0</td>\n",
       "    </tr>\n",
       "    <tr>\n",
       "      <th>Split</th>\n",
       "      <td>3</td>\n",
       "      <td>Horror,Thriller</td>\n",
       "      <td>Three girls are kidnapped by a man with a diag...</td>\n",
       "      <td>M. Night Shyamalan</td>\n",
       "      <td>James McAvoy, Anya Taylor-Joy, Haley Lu Richar...</td>\n",
       "      <td>2016</td>\n",
       "      <td>117</td>\n",
       "      <td>7.3</td>\n",
       "      <td>157606</td>\n",
       "      <td>138.120000</td>\n",
       "      <td>62.0</td>\n",
       "    </tr>\n",
       "    <tr>\n",
       "      <th>Sing</th>\n",
       "      <td>4</td>\n",
       "      <td>Animation,Comedy,Family</td>\n",
       "      <td>In a city of humanoid animals, a hustling thea...</td>\n",
       "      <td>Christophe Lourdelet</td>\n",
       "      <td>Matthew McConaughey,Reese Witherspoon, Seth Ma...</td>\n",
       "      <td>2016</td>\n",
       "      <td>108</td>\n",
       "      <td>7.2</td>\n",
       "      <td>60545</td>\n",
       "      <td>270.320000</td>\n",
       "      <td>59.0</td>\n",
       "    </tr>\n",
       "    <tr>\n",
       "      <th>Suicide Squad</th>\n",
       "      <td>5</td>\n",
       "      <td>Action,Adventure,Fantasy</td>\n",
       "      <td>A secret government agency recruits some of th...</td>\n",
       "      <td>David Ayer</td>\n",
       "      <td>Will Smith, Jared Leto, Margot Robbie, Viola D...</td>\n",
       "      <td>2016</td>\n",
       "      <td>123</td>\n",
       "      <td>6.2</td>\n",
       "      <td>393727</td>\n",
       "      <td>325.020000</td>\n",
       "      <td>40.0</td>\n",
       "    </tr>\n",
       "    <tr>\n",
       "      <th>...</th>\n",
       "      <td>...</td>\n",
       "      <td>...</td>\n",
       "      <td>...</td>\n",
       "      <td>...</td>\n",
       "      <td>...</td>\n",
       "      <td>...</td>\n",
       "      <td>...</td>\n",
       "      <td>...</td>\n",
       "      <td>...</td>\n",
       "      <td>...</td>\n",
       "      <td>...</td>\n",
       "    </tr>\n",
       "    <tr>\n",
       "      <th>Secret in Their Eyes</th>\n",
       "      <td>996</td>\n",
       "      <td>Crime,Drama,Mystery</td>\n",
       "      <td>A tight-knit team of rising investigators, alo...</td>\n",
       "      <td>Billy Ray</td>\n",
       "      <td>Chiwetel Ejiofor, Nicole Kidman, Julia Roberts...</td>\n",
       "      <td>2015</td>\n",
       "      <td>111</td>\n",
       "      <td>6.2</td>\n",
       "      <td>27585</td>\n",
       "      <td>82.956376</td>\n",
       "      <td>45.0</td>\n",
       "    </tr>\n",
       "    <tr>\n",
       "      <th>Hostel: Part II</th>\n",
       "      <td>997</td>\n",
       "      <td>Horror</td>\n",
       "      <td>Three American college students studying abroa...</td>\n",
       "      <td>Eli Roth</td>\n",
       "      <td>Lauren German, Heather Matarazzo, Bijou Philli...</td>\n",
       "      <td>2007</td>\n",
       "      <td>94</td>\n",
       "      <td>5.5</td>\n",
       "      <td>73152</td>\n",
       "      <td>17.540000</td>\n",
       "      <td>46.0</td>\n",
       "    </tr>\n",
       "    <tr>\n",
       "      <th>Step Up 2: The Streets</th>\n",
       "      <td>998</td>\n",
       "      <td>Drama,Music,Romance</td>\n",
       "      <td>Romantic sparks occur between two dance studen...</td>\n",
       "      <td>Jon M. Chu</td>\n",
       "      <td>Robert Hoffman, Briana Evigan, Cassie Ventura,...</td>\n",
       "      <td>2008</td>\n",
       "      <td>98</td>\n",
       "      <td>6.2</td>\n",
       "      <td>70699</td>\n",
       "      <td>58.010000</td>\n",
       "      <td>50.0</td>\n",
       "    </tr>\n",
       "    <tr>\n",
       "      <th>Search Party</th>\n",
       "      <td>999</td>\n",
       "      <td>Adventure,Comedy</td>\n",
       "      <td>A pair of friends embark on a mission to reuni...</td>\n",
       "      <td>Scot Armstrong</td>\n",
       "      <td>Adam Pally, T.J. Miller, Thomas Middleditch,Sh...</td>\n",
       "      <td>2014</td>\n",
       "      <td>93</td>\n",
       "      <td>5.6</td>\n",
       "      <td>4881</td>\n",
       "      <td>82.956376</td>\n",
       "      <td>22.0</td>\n",
       "    </tr>\n",
       "    <tr>\n",
       "      <th>Nine Lives</th>\n",
       "      <td>1000</td>\n",
       "      <td>Comedy,Family,Fantasy</td>\n",
       "      <td>A stuffy businessman finds himself trapped ins...</td>\n",
       "      <td>Barry Sonnenfeld</td>\n",
       "      <td>Kevin Spacey, Jennifer Garner, Robbie Amell,Ch...</td>\n",
       "      <td>2016</td>\n",
       "      <td>87</td>\n",
       "      <td>5.3</td>\n",
       "      <td>12435</td>\n",
       "      <td>19.640000</td>\n",
       "      <td>11.0</td>\n",
       "    </tr>\n",
       "  </tbody>\n",
       "</table>\n",
       "<p>936 rows × 11 columns</p>\n",
       "</div>"
      ],
      "text/plain": [
       "                         rank                     genre  \\\n",
       "Title                                                     \n",
       "Guardians of the Galaxy     1   Action,Adventure,Sci-Fi   \n",
       "Prometheus                  2  Adventure,Mystery,Sci-Fi   \n",
       "Split                       3           Horror,Thriller   \n",
       "Sing                        4   Animation,Comedy,Family   \n",
       "Suicide Squad               5  Action,Adventure,Fantasy   \n",
       "...                       ...                       ...   \n",
       "Secret in Their Eyes      996       Crime,Drama,Mystery   \n",
       "Hostel: Part II           997                    Horror   \n",
       "Step Up 2: The Streets    998       Drama,Music,Romance   \n",
       "Search Party              999          Adventure,Comedy   \n",
       "Nine Lives               1000     Comedy,Family,Fantasy   \n",
       "\n",
       "                                                               description  \\\n",
       "Title                                                                        \n",
       "Guardians of the Galaxy  A group of intergalactic criminals are forced ...   \n",
       "Prometheus               Following clues to the origin of mankind, a te...   \n",
       "Split                    Three girls are kidnapped by a man with a diag...   \n",
       "Sing                     In a city of humanoid animals, a hustling thea...   \n",
       "Suicide Squad            A secret government agency recruits some of th...   \n",
       "...                                                                    ...   \n",
       "Secret in Their Eyes     A tight-knit team of rising investigators, alo...   \n",
       "Hostel: Part II          Three American college students studying abroa...   \n",
       "Step Up 2: The Streets   Romantic sparks occur between two dance studen...   \n",
       "Search Party             A pair of friends embark on a mission to reuni...   \n",
       "Nine Lives               A stuffy businessman finds himself trapped ins...   \n",
       "\n",
       "                                     director  \\\n",
       "Title                                           \n",
       "Guardians of the Galaxy            James Gunn   \n",
       "Prometheus                       Ridley Scott   \n",
       "Split                      M. Night Shyamalan   \n",
       "Sing                     Christophe Lourdelet   \n",
       "Suicide Squad                      David Ayer   \n",
       "...                                       ...   \n",
       "Secret in Their Eyes                Billy Ray   \n",
       "Hostel: Part II                      Eli Roth   \n",
       "Step Up 2: The Streets             Jon M. Chu   \n",
       "Search Party                   Scot Armstrong   \n",
       "Nine Lives                   Barry Sonnenfeld   \n",
       "\n",
       "                                                                    actors  \\\n",
       "Title                                                                        \n",
       "Guardians of the Galaxy  Chris Pratt, Vin Diesel, Bradley Cooper, Zoe S...   \n",
       "Prometheus               Noomi Rapace, Logan Marshall-Green, Michael Fa...   \n",
       "Split                    James McAvoy, Anya Taylor-Joy, Haley Lu Richar...   \n",
       "Sing                     Matthew McConaughey,Reese Witherspoon, Seth Ma...   \n",
       "Suicide Squad            Will Smith, Jared Leto, Margot Robbie, Viola D...   \n",
       "...                                                                    ...   \n",
       "Secret in Their Eyes     Chiwetel Ejiofor, Nicole Kidman, Julia Roberts...   \n",
       "Hostel: Part II          Lauren German, Heather Matarazzo, Bijou Philli...   \n",
       "Step Up 2: The Streets   Robert Hoffman, Briana Evigan, Cassie Ventura,...   \n",
       "Search Party             Adam Pally, T.J. Miller, Thomas Middleditch,Sh...   \n",
       "Nine Lives               Kevin Spacey, Jennifer Garner, Robbie Amell,Ch...   \n",
       "\n",
       "                         year  runtime  rating   votes     revenue  metascore  \n",
       "Title                                                                          \n",
       "Guardians of the Galaxy  2014      121     8.1  757074  333.130000       76.0  \n",
       "Prometheus               2012      124     7.0  485820  126.460000       65.0  \n",
       "Split                    2016      117     7.3  157606  138.120000       62.0  \n",
       "Sing                     2016      108     7.2   60545  270.320000       59.0  \n",
       "Suicide Squad            2016      123     6.2  393727  325.020000       40.0  \n",
       "...                       ...      ...     ...     ...         ...        ...  \n",
       "Secret in Their Eyes     2015      111     6.2   27585   82.956376       45.0  \n",
       "Hostel: Part II          2007       94     5.5   73152   17.540000       46.0  \n",
       "Step Up 2: The Streets   2008       98     6.2   70699   58.010000       50.0  \n",
       "Search Party             2014       93     5.6    4881   82.956376       22.0  \n",
       "Nine Lives               2016       87     5.3   12435   19.640000       11.0  \n",
       "\n",
       "[936 rows x 11 columns]"
      ]
     },
     "execution_count": 15,
     "metadata": {},
     "output_type": "execute_result"
    }
   ],
   "source": [
    "df = df.dropna() # we made it permanent\n",
    "df"
   ]
  },
  {
   "cell_type": "markdown",
   "id": "111a24a8",
   "metadata": {},
   "source": [
    "### d. Recheck for missing values using both pandas and missingno libraries, and assign this cleaned dataset to a new variable."
   ]
  },
  {
   "cell_type": "code",
   "execution_count": 16,
   "id": "ee7136a8",
   "metadata": {},
   "outputs": [
    {
     "data": {
      "text/plain": [
       "rank           0\n",
       "genre          0\n",
       "description    0\n",
       "director       0\n",
       "actors         0\n",
       "year           0\n",
       "runtime        0\n",
       "rating         0\n",
       "votes          0\n",
       "revenue        0\n",
       "metascore      0\n",
       "dtype: int64"
      ]
     },
     "execution_count": 16,
     "metadata": {},
     "output_type": "execute_result"
    }
   ],
   "source": [
    "df.isnull().sum()"
   ]
  },
  {
   "cell_type": "markdown",
   "id": "2ef11f6d",
   "metadata": {},
   "source": [
    "## 5. From the cleaned dataset, select the top 250 movies with the highest ratings to create a dataset named \"top250\" and save it locally with this name. Then, read this new dataset again using the pandas library."
   ]
  },
  {
   "cell_type": "code",
   "execution_count": 17,
   "id": "b6d9069a",
   "metadata": {
    "ExecuteTime": {
     "end_time": "2023-09-24T15:09:00.630452Z",
     "start_time": "2023-09-24T15:09:00.601326Z"
    },
    "scrolled": false
   },
   "outputs": [
    {
     "data": {
      "text/html": [
       "<div>\n",
       "<style scoped>\n",
       "    .dataframe tbody tr th:only-of-type {\n",
       "        vertical-align: middle;\n",
       "    }\n",
       "\n",
       "    .dataframe tbody tr th {\n",
       "        vertical-align: top;\n",
       "    }\n",
       "\n",
       "    .dataframe thead th {\n",
       "        text-align: right;\n",
       "    }\n",
       "</style>\n",
       "<table border=\"1\" class=\"dataframe\">\n",
       "  <thead>\n",
       "    <tr style=\"text-align: right;\">\n",
       "      <th></th>\n",
       "      <th>rank</th>\n",
       "      <th>genre</th>\n",
       "      <th>description</th>\n",
       "      <th>director</th>\n",
       "      <th>actors</th>\n",
       "      <th>year</th>\n",
       "      <th>runtime</th>\n",
       "      <th>rating</th>\n",
       "      <th>votes</th>\n",
       "      <th>revenue</th>\n",
       "      <th>metascore</th>\n",
       "    </tr>\n",
       "    <tr>\n",
       "      <th>Title</th>\n",
       "      <th></th>\n",
       "      <th></th>\n",
       "      <th></th>\n",
       "      <th></th>\n",
       "      <th></th>\n",
       "      <th></th>\n",
       "      <th></th>\n",
       "      <th></th>\n",
       "      <th></th>\n",
       "      <th></th>\n",
       "      <th></th>\n",
       "    </tr>\n",
       "  </thead>\n",
       "  <tbody>\n",
       "    <tr>\n",
       "      <th>The Dark Knight</th>\n",
       "      <td>55</td>\n",
       "      <td>Action,Crime,Drama</td>\n",
       "      <td>When the menace known as the Joker wreaks havo...</td>\n",
       "      <td>Christopher Nolan</td>\n",
       "      <td>Christian Bale, Heath Ledger, Aaron Eckhart,Mi...</td>\n",
       "      <td>2008</td>\n",
       "      <td>152</td>\n",
       "      <td>9.0</td>\n",
       "      <td>1791916</td>\n",
       "      <td>533.32</td>\n",
       "      <td>82.0</td>\n",
       "    </tr>\n",
       "    <tr>\n",
       "      <th>Inception</th>\n",
       "      <td>81</td>\n",
       "      <td>Action,Adventure,Sci-Fi</td>\n",
       "      <td>A thief, who steals corporate secrets through ...</td>\n",
       "      <td>Christopher Nolan</td>\n",
       "      <td>Leonardo DiCaprio, Joseph Gordon-Levitt, Ellen...</td>\n",
       "      <td>2010</td>\n",
       "      <td>148</td>\n",
       "      <td>8.8</td>\n",
       "      <td>1583625</td>\n",
       "      <td>292.57</td>\n",
       "      <td>74.0</td>\n",
       "    </tr>\n",
       "    <tr>\n",
       "      <th>Interstellar</th>\n",
       "      <td>37</td>\n",
       "      <td>Adventure,Drama,Sci-Fi</td>\n",
       "      <td>A team of explorers travel through a wormhole ...</td>\n",
       "      <td>Christopher Nolan</td>\n",
       "      <td>Matthew McConaughey, Anne Hathaway, Jessica Ch...</td>\n",
       "      <td>2014</td>\n",
       "      <td>169</td>\n",
       "      <td>8.6</td>\n",
       "      <td>1047747</td>\n",
       "      <td>187.99</td>\n",
       "      <td>74.0</td>\n",
       "    </tr>\n",
       "    <tr>\n",
       "      <th>The Intouchables</th>\n",
       "      <td>250</td>\n",
       "      <td>Biography,Comedy,Drama</td>\n",
       "      <td>After he becomes a quadriplegic from a paragli...</td>\n",
       "      <td>Olivier Nakache</td>\n",
       "      <td>François Cluzet, Omar Sy, Anne Le Ny, Audrey F...</td>\n",
       "      <td>2011</td>\n",
       "      <td>112</td>\n",
       "      <td>8.6</td>\n",
       "      <td>557965</td>\n",
       "      <td>13.18</td>\n",
       "      <td>57.0</td>\n",
       "    </tr>\n",
       "    <tr>\n",
       "      <th>Kimi no na wa</th>\n",
       "      <td>97</td>\n",
       "      <td>Animation,Drama,Fantasy</td>\n",
       "      <td>Two strangers find themselves linked in a biza...</td>\n",
       "      <td>Makoto Shinkai</td>\n",
       "      <td>Ryûnosuke Kamiki, Mone Kamishiraishi, Ryô Nari...</td>\n",
       "      <td>2016</td>\n",
       "      <td>106</td>\n",
       "      <td>8.6</td>\n",
       "      <td>34110</td>\n",
       "      <td>4.68</td>\n",
       "      <td>79.0</td>\n",
       "    </tr>\n",
       "  </tbody>\n",
       "</table>\n",
       "</div>"
      ],
      "text/plain": [
       "                  rank                    genre  \\\n",
       "Title                                             \n",
       "The Dark Knight     55       Action,Crime,Drama   \n",
       "Inception           81  Action,Adventure,Sci-Fi   \n",
       "Interstellar        37   Adventure,Drama,Sci-Fi   \n",
       "The Intouchables   250   Biography,Comedy,Drama   \n",
       "Kimi no na wa       97  Animation,Drama,Fantasy   \n",
       "\n",
       "                                                        description  \\\n",
       "Title                                                                 \n",
       "The Dark Knight   When the menace known as the Joker wreaks havo...   \n",
       "Inception         A thief, who steals corporate secrets through ...   \n",
       "Interstellar      A team of explorers travel through a wormhole ...   \n",
       "The Intouchables  After he becomes a quadriplegic from a paragli...   \n",
       "Kimi no na wa     Two strangers find themselves linked in a biza...   \n",
       "\n",
       "                           director  \\\n",
       "Title                                 \n",
       "The Dark Knight   Christopher Nolan   \n",
       "Inception         Christopher Nolan   \n",
       "Interstellar      Christopher Nolan   \n",
       "The Intouchables    Olivier Nakache   \n",
       "Kimi no na wa        Makoto Shinkai   \n",
       "\n",
       "                                                             actors  year  \\\n",
       "Title                                                                       \n",
       "The Dark Knight   Christian Bale, Heath Ledger, Aaron Eckhart,Mi...  2008   \n",
       "Inception         Leonardo DiCaprio, Joseph Gordon-Levitt, Ellen...  2010   \n",
       "Interstellar      Matthew McConaughey, Anne Hathaway, Jessica Ch...  2014   \n",
       "The Intouchables  François Cluzet, Omar Sy, Anne Le Ny, Audrey F...  2011   \n",
       "Kimi no na wa     Ryûnosuke Kamiki, Mone Kamishiraishi, Ryô Nari...  2016   \n",
       "\n",
       "                  runtime  rating    votes  revenue  metascore  \n",
       "Title                                                           \n",
       "The Dark Knight       152     9.0  1791916   533.32       82.0  \n",
       "Inception             148     8.8  1583625   292.57       74.0  \n",
       "Interstellar          169     8.6  1047747   187.99       74.0  \n",
       "The Intouchables      112     8.6   557965    13.18       57.0  \n",
       "Kimi no na wa         106     8.6    34110     4.68       79.0  "
      ]
     },
     "execution_count": 17,
     "metadata": {},
     "output_type": "execute_result"
    }
   ],
   "source": [
    "# sort by 'rating' column\n",
    "top250 = df.sort_values('rating', ascending=False)\n",
    "\n",
    "# Create new dataset containing top 250 movies\n",
    "top250 = top250[:250]\n",
    "top250.head()\n",
    "\n",
    "# top250 = new_movies.sort_values('rating', ascending=False)[:250].reset_index(drop=True)\n",
    "# top250 = top250.reset_index(drop=True)\n",
    "# top250 = new_movies.nlargest(250, 'rating').reset_index(drop=True)\n",
    "# top250 = new_movies.sort_values('rating', ascending=False).iloc[:250].reset_index(drop=True)\n",
    "# top250 = new_movies.sort_values('rating', ascending=False).loc[new_movies.index[:250]].reset_index(drop=True)"
   ]
  },
  {
   "cell_type": "code",
   "execution_count": 18,
   "id": "24786d56",
   "metadata": {
    "ExecuteTime": {
     "end_time": "2023-09-24T15:09:00.652924Z",
     "start_time": "2023-09-24T15:09:00.634455Z"
    }
   },
   "outputs": [],
   "source": [
    "# Save the new data set locally as a csv file\n",
    "top250.to_csv('top250.csv')"
   ]
  },
  {
   "cell_type": "code",
   "execution_count": 19,
   "id": "91146a60",
   "metadata": {
    "ExecuteTime": {
     "end_time": "2023-09-24T15:09:00.660254Z",
     "start_time": "2023-09-24T15:09:00.655926Z"
    }
   },
   "outputs": [],
   "source": [
    "#save in different formats\n",
    "\n",
    "#df.to_csv('top250.csv')\n",
    "\n",
    "#df.to_json('top250.json')\n",
    "\n",
    "#df.to_sql('top250', con)"
   ]
  },
  {
   "cell_type": "markdown",
   "id": "a4759dca",
   "metadata": {},
   "source": [
    "## 6. Examine the size and characteristics of the dataset"
   ]
  },
  {
   "cell_type": "markdown",
   "id": "e6a962c2",
   "metadata": {},
   "source": [
    "### a. Check the size of the dataset."
   ]
  },
  {
   "cell_type": "code",
   "execution_count": 20,
   "id": "63a9c107",
   "metadata": {},
   "outputs": [
    {
     "data": {
      "text/plain": [
       "(250, 11)"
      ]
     },
     "execution_count": 20,
     "metadata": {},
     "output_type": "execute_result"
    }
   ],
   "source": [
    "top250.shape"
   ]
  },
  {
   "cell_type": "markdown",
   "id": "ab6f2e67",
   "metadata": {},
   "source": [
    "### b. Take a look at the first 5 observations of the dataset"
   ]
  },
  {
   "cell_type": "code",
   "execution_count": 21,
   "id": "b5895456",
   "metadata": {},
   "outputs": [
    {
     "data": {
      "text/html": [
       "<div>\n",
       "<style scoped>\n",
       "    .dataframe tbody tr th:only-of-type {\n",
       "        vertical-align: middle;\n",
       "    }\n",
       "\n",
       "    .dataframe tbody tr th {\n",
       "        vertical-align: top;\n",
       "    }\n",
       "\n",
       "    .dataframe thead th {\n",
       "        text-align: right;\n",
       "    }\n",
       "</style>\n",
       "<table border=\"1\" class=\"dataframe\">\n",
       "  <thead>\n",
       "    <tr style=\"text-align: right;\">\n",
       "      <th></th>\n",
       "      <th>rank</th>\n",
       "      <th>genre</th>\n",
       "      <th>description</th>\n",
       "      <th>director</th>\n",
       "      <th>actors</th>\n",
       "      <th>year</th>\n",
       "      <th>runtime</th>\n",
       "      <th>rating</th>\n",
       "      <th>votes</th>\n",
       "      <th>revenue</th>\n",
       "      <th>metascore</th>\n",
       "    </tr>\n",
       "    <tr>\n",
       "      <th>Title</th>\n",
       "      <th></th>\n",
       "      <th></th>\n",
       "      <th></th>\n",
       "      <th></th>\n",
       "      <th></th>\n",
       "      <th></th>\n",
       "      <th></th>\n",
       "      <th></th>\n",
       "      <th></th>\n",
       "      <th></th>\n",
       "      <th></th>\n",
       "    </tr>\n",
       "  </thead>\n",
       "  <tbody>\n",
       "    <tr>\n",
       "      <th>The Dark Knight</th>\n",
       "      <td>55</td>\n",
       "      <td>Action,Crime,Drama</td>\n",
       "      <td>When the menace known as the Joker wreaks havo...</td>\n",
       "      <td>Christopher Nolan</td>\n",
       "      <td>Christian Bale, Heath Ledger, Aaron Eckhart,Mi...</td>\n",
       "      <td>2008</td>\n",
       "      <td>152</td>\n",
       "      <td>9.0</td>\n",
       "      <td>1791916</td>\n",
       "      <td>533.32</td>\n",
       "      <td>82.0</td>\n",
       "    </tr>\n",
       "    <tr>\n",
       "      <th>Inception</th>\n",
       "      <td>81</td>\n",
       "      <td>Action,Adventure,Sci-Fi</td>\n",
       "      <td>A thief, who steals corporate secrets through ...</td>\n",
       "      <td>Christopher Nolan</td>\n",
       "      <td>Leonardo DiCaprio, Joseph Gordon-Levitt, Ellen...</td>\n",
       "      <td>2010</td>\n",
       "      <td>148</td>\n",
       "      <td>8.8</td>\n",
       "      <td>1583625</td>\n",
       "      <td>292.57</td>\n",
       "      <td>74.0</td>\n",
       "    </tr>\n",
       "    <tr>\n",
       "      <th>Interstellar</th>\n",
       "      <td>37</td>\n",
       "      <td>Adventure,Drama,Sci-Fi</td>\n",
       "      <td>A team of explorers travel through a wormhole ...</td>\n",
       "      <td>Christopher Nolan</td>\n",
       "      <td>Matthew McConaughey, Anne Hathaway, Jessica Ch...</td>\n",
       "      <td>2014</td>\n",
       "      <td>169</td>\n",
       "      <td>8.6</td>\n",
       "      <td>1047747</td>\n",
       "      <td>187.99</td>\n",
       "      <td>74.0</td>\n",
       "    </tr>\n",
       "    <tr>\n",
       "      <th>The Intouchables</th>\n",
       "      <td>250</td>\n",
       "      <td>Biography,Comedy,Drama</td>\n",
       "      <td>After he becomes a quadriplegic from a paragli...</td>\n",
       "      <td>Olivier Nakache</td>\n",
       "      <td>François Cluzet, Omar Sy, Anne Le Ny, Audrey F...</td>\n",
       "      <td>2011</td>\n",
       "      <td>112</td>\n",
       "      <td>8.6</td>\n",
       "      <td>557965</td>\n",
       "      <td>13.18</td>\n",
       "      <td>57.0</td>\n",
       "    </tr>\n",
       "    <tr>\n",
       "      <th>Kimi no na wa</th>\n",
       "      <td>97</td>\n",
       "      <td>Animation,Drama,Fantasy</td>\n",
       "      <td>Two strangers find themselves linked in a biza...</td>\n",
       "      <td>Makoto Shinkai</td>\n",
       "      <td>Ryûnosuke Kamiki, Mone Kamishiraishi, Ryô Nari...</td>\n",
       "      <td>2016</td>\n",
       "      <td>106</td>\n",
       "      <td>8.6</td>\n",
       "      <td>34110</td>\n",
       "      <td>4.68</td>\n",
       "      <td>79.0</td>\n",
       "    </tr>\n",
       "  </tbody>\n",
       "</table>\n",
       "</div>"
      ],
      "text/plain": [
       "                  rank                    genre  \\\n",
       "Title                                             \n",
       "The Dark Knight     55       Action,Crime,Drama   \n",
       "Inception           81  Action,Adventure,Sci-Fi   \n",
       "Interstellar        37   Adventure,Drama,Sci-Fi   \n",
       "The Intouchables   250   Biography,Comedy,Drama   \n",
       "Kimi no na wa       97  Animation,Drama,Fantasy   \n",
       "\n",
       "                                                        description  \\\n",
       "Title                                                                 \n",
       "The Dark Knight   When the menace known as the Joker wreaks havo...   \n",
       "Inception         A thief, who steals corporate secrets through ...   \n",
       "Interstellar      A team of explorers travel through a wormhole ...   \n",
       "The Intouchables  After he becomes a quadriplegic from a paragli...   \n",
       "Kimi no na wa     Two strangers find themselves linked in a biza...   \n",
       "\n",
       "                           director  \\\n",
       "Title                                 \n",
       "The Dark Knight   Christopher Nolan   \n",
       "Inception         Christopher Nolan   \n",
       "Interstellar      Christopher Nolan   \n",
       "The Intouchables    Olivier Nakache   \n",
       "Kimi no na wa        Makoto Shinkai   \n",
       "\n",
       "                                                             actors  year  \\\n",
       "Title                                                                       \n",
       "The Dark Knight   Christian Bale, Heath Ledger, Aaron Eckhart,Mi...  2008   \n",
       "Inception         Leonardo DiCaprio, Joseph Gordon-Levitt, Ellen...  2010   \n",
       "Interstellar      Matthew McConaughey, Anne Hathaway, Jessica Ch...  2014   \n",
       "The Intouchables  François Cluzet, Omar Sy, Anne Le Ny, Audrey F...  2011   \n",
       "Kimi no na wa     Ryûnosuke Kamiki, Mone Kamishiraishi, Ryô Nari...  2016   \n",
       "\n",
       "                  runtime  rating    votes  revenue  metascore  \n",
       "Title                                                           \n",
       "The Dark Knight       152     9.0  1791916   533.32       82.0  \n",
       "Inception             148     8.8  1583625   292.57       74.0  \n",
       "Interstellar          169     8.6  1047747   187.99       74.0  \n",
       "The Intouchables      112     8.6   557965    13.18       57.0  \n",
       "Kimi no na wa         106     8.6    34110     4.68       79.0  "
      ]
     },
     "execution_count": 21,
     "metadata": {},
     "output_type": "execute_result"
    }
   ],
   "source": [
    "top250.head()"
   ]
  },
  {
   "cell_type": "markdown",
   "id": "d1690553",
   "metadata": {},
   "source": [
    "### c. Looking at 10 observations randomly"
   ]
  },
  {
   "cell_type": "code",
   "execution_count": 22,
   "id": "cfc252b3",
   "metadata": {},
   "outputs": [
    {
     "data": {
      "text/html": [
       "<div>\n",
       "<style scoped>\n",
       "    .dataframe tbody tr th:only-of-type {\n",
       "        vertical-align: middle;\n",
       "    }\n",
       "\n",
       "    .dataframe tbody tr th {\n",
       "        vertical-align: top;\n",
       "    }\n",
       "\n",
       "    .dataframe thead th {\n",
       "        text-align: right;\n",
       "    }\n",
       "</style>\n",
       "<table border=\"1\" class=\"dataframe\">\n",
       "  <thead>\n",
       "    <tr style=\"text-align: right;\">\n",
       "      <th></th>\n",
       "      <th>rank</th>\n",
       "      <th>genre</th>\n",
       "      <th>description</th>\n",
       "      <th>director</th>\n",
       "      <th>actors</th>\n",
       "      <th>year</th>\n",
       "      <th>runtime</th>\n",
       "      <th>rating</th>\n",
       "      <th>votes</th>\n",
       "      <th>revenue</th>\n",
       "      <th>metascore</th>\n",
       "    </tr>\n",
       "    <tr>\n",
       "      <th>Title</th>\n",
       "      <th></th>\n",
       "      <th></th>\n",
       "      <th></th>\n",
       "      <th></th>\n",
       "      <th></th>\n",
       "      <th></th>\n",
       "      <th></th>\n",
       "      <th></th>\n",
       "      <th></th>\n",
       "      <th></th>\n",
       "      <th></th>\n",
       "    </tr>\n",
       "  </thead>\n",
       "  <tbody>\n",
       "    <tr>\n",
       "      <th>Toni Erdmann</th>\n",
       "      <td>612</td>\n",
       "      <td>Comedy,Drama</td>\n",
       "      <td>A practical joking father tries to reconnect w...</td>\n",
       "      <td>Maren Ade</td>\n",
       "      <td>Sandra Hüller, Peter Simonischek, Michael Witt...</td>\n",
       "      <td>2016</td>\n",
       "      <td>162</td>\n",
       "      <td>7.6</td>\n",
       "      <td>24387</td>\n",
       "      <td>1.48</td>\n",
       "      <td>93.0</td>\n",
       "    </tr>\n",
       "    <tr>\n",
       "      <th>Mission: Impossible - Rogue Nation</th>\n",
       "      <td>234</td>\n",
       "      <td>Action,Adventure,Thriller</td>\n",
       "      <td>Ethan and team take on their most impossible m...</td>\n",
       "      <td>Christopher McQuarrie</td>\n",
       "      <td>Tom Cruise, Rebecca Ferguson, Jeremy Renner, S...</td>\n",
       "      <td>2015</td>\n",
       "      <td>131</td>\n",
       "      <td>7.4</td>\n",
       "      <td>257472</td>\n",
       "      <td>195.00</td>\n",
       "      <td>75.0</td>\n",
       "    </tr>\n",
       "    <tr>\n",
       "      <th>Her</th>\n",
       "      <td>174</td>\n",
       "      <td>Drama,Romance,Sci-Fi</td>\n",
       "      <td>A lonely writer develops an unlikely relations...</td>\n",
       "      <td>Spike Jonze</td>\n",
       "      <td>Joaquin Phoenix, Amy Adams, Scarlett Johansson...</td>\n",
       "      <td>2013</td>\n",
       "      <td>126</td>\n",
       "      <td>8.0</td>\n",
       "      <td>390531</td>\n",
       "      <td>25.56</td>\n",
       "      <td>90.0</td>\n",
       "    </tr>\n",
       "    <tr>\n",
       "      <th>The Judge</th>\n",
       "      <td>709</td>\n",
       "      <td>Crime,Drama</td>\n",
       "      <td>Big-city lawyer Hank Palmer returns to his chi...</td>\n",
       "      <td>David Dobkin</td>\n",
       "      <td>Robert Downey Jr., Robert Duvall, Vera Farmiga...</td>\n",
       "      <td>2014</td>\n",
       "      <td>141</td>\n",
       "      <td>7.4</td>\n",
       "      <td>146812</td>\n",
       "      <td>47.11</td>\n",
       "      <td>48.0</td>\n",
       "    </tr>\n",
       "    <tr>\n",
       "      <th>The Fault in Our Stars</th>\n",
       "      <td>339</td>\n",
       "      <td>Drama,Romance</td>\n",
       "      <td>Two teenage cancer patients begin a life-affir...</td>\n",
       "      <td>Josh Boone</td>\n",
       "      <td>Shailene Woodley, Ansel Elgort, Nat Wolff, Lau...</td>\n",
       "      <td>2014</td>\n",
       "      <td>126</td>\n",
       "      <td>7.8</td>\n",
       "      <td>271301</td>\n",
       "      <td>124.87</td>\n",
       "      <td>69.0</td>\n",
       "    </tr>\n",
       "    <tr>\n",
       "      <th>The imposible</th>\n",
       "      <td>438</td>\n",
       "      <td>Drama,Thriller</td>\n",
       "      <td>The story of a tourist family in Thailand caug...</td>\n",
       "      <td>J.A. Bayona</td>\n",
       "      <td>Naomi Watts, Ewan McGregor, Tom Holland, Oakle...</td>\n",
       "      <td>2012</td>\n",
       "      <td>114</td>\n",
       "      <td>7.6</td>\n",
       "      <td>156189</td>\n",
       "      <td>19.00</td>\n",
       "      <td>73.0</td>\n",
       "    </tr>\n",
       "    <tr>\n",
       "      <th>Goksung</th>\n",
       "      <td>916</td>\n",
       "      <td>Drama,Fantasy,Horror</td>\n",
       "      <td>A stranger arrives in a little village and soo...</td>\n",
       "      <td>Hong-jin Na</td>\n",
       "      <td>Jun Kunimura, Jung-min Hwang, Do-won Kwak, Woo...</td>\n",
       "      <td>2016</td>\n",
       "      <td>156</td>\n",
       "      <td>7.5</td>\n",
       "      <td>17962</td>\n",
       "      <td>0.79</td>\n",
       "      <td>81.0</td>\n",
       "    </tr>\n",
       "    <tr>\n",
       "      <th>Patriots Day</th>\n",
       "      <td>67</td>\n",
       "      <td>Drama,History,Thriller</td>\n",
       "      <td>The story of the 2013 Boston Marathon bombing ...</td>\n",
       "      <td>Peter Berg</td>\n",
       "      <td>Mark Wahlberg, Michelle Monaghan, J.K. Simmons...</td>\n",
       "      <td>2016</td>\n",
       "      <td>133</td>\n",
       "      <td>7.4</td>\n",
       "      <td>39784</td>\n",
       "      <td>31.86</td>\n",
       "      <td>69.0</td>\n",
       "    </tr>\n",
       "    <tr>\n",
       "      <th>Birdman or (The Unexpected Virtue of Ignorance)</th>\n",
       "      <td>261</td>\n",
       "      <td>Comedy,Drama,Romance</td>\n",
       "      <td>Illustrated upon the progress of his latest Br...</td>\n",
       "      <td>Alejandro González Iñárritu</td>\n",
       "      <td>Michael Keaton, Zach Galifianakis,Edward Norto...</td>\n",
       "      <td>2014</td>\n",
       "      <td>119</td>\n",
       "      <td>7.8</td>\n",
       "      <td>440299</td>\n",
       "      <td>42.34</td>\n",
       "      <td>88.0</td>\n",
       "    </tr>\n",
       "    <tr>\n",
       "      <th>Up</th>\n",
       "      <td>500</td>\n",
       "      <td>Animation,Adventure,Comedy</td>\n",
       "      <td>Seventy-eight year old Carl Fredricksen travel...</td>\n",
       "      <td>Pete Docter</td>\n",
       "      <td>Edward Asner, Jordan Nagai, John Ratzenberger,...</td>\n",
       "      <td>2009</td>\n",
       "      <td>96</td>\n",
       "      <td>8.3</td>\n",
       "      <td>722203</td>\n",
       "      <td>292.98</td>\n",
       "      <td>88.0</td>\n",
       "    </tr>\n",
       "  </tbody>\n",
       "</table>\n",
       "</div>"
      ],
      "text/plain": [
       "                                                 rank  \\\n",
       "Title                                                   \n",
       "Toni Erdmann                                      612   \n",
       "Mission: Impossible - Rogue Nation                234   \n",
       "Her                                               174   \n",
       "The Judge                                         709   \n",
       "The Fault in Our Stars                            339   \n",
       "The imposible                                     438   \n",
       "Goksung                                           916   \n",
       "Patriots Day                                       67   \n",
       "Birdman or (The Unexpected Virtue of Ignorance)   261   \n",
       "Up                                                500   \n",
       "\n",
       "                                                                      genre  \\\n",
       "Title                                                                         \n",
       "Toni Erdmann                                                   Comedy,Drama   \n",
       "Mission: Impossible - Rogue Nation                Action,Adventure,Thriller   \n",
       "Her                                                    Drama,Romance,Sci-Fi   \n",
       "The Judge                                                       Crime,Drama   \n",
       "The Fault in Our Stars                                        Drama,Romance   \n",
       "The imposible                                                Drama,Thriller   \n",
       "Goksung                                                Drama,Fantasy,Horror   \n",
       "Patriots Day                                         Drama,History,Thriller   \n",
       "Birdman or (The Unexpected Virtue of Ignorance)        Comedy,Drama,Romance   \n",
       "Up                                               Animation,Adventure,Comedy   \n",
       "\n",
       "                                                                                       description  \\\n",
       "Title                                                                                                \n",
       "Toni Erdmann                                     A practical joking father tries to reconnect w...   \n",
       "Mission: Impossible - Rogue Nation               Ethan and team take on their most impossible m...   \n",
       "Her                                              A lonely writer develops an unlikely relations...   \n",
       "The Judge                                        Big-city lawyer Hank Palmer returns to his chi...   \n",
       "The Fault in Our Stars                           Two teenage cancer patients begin a life-affir...   \n",
       "The imposible                                    The story of a tourist family in Thailand caug...   \n",
       "Goksung                                          A stranger arrives in a little village and soo...   \n",
       "Patriots Day                                     The story of the 2013 Boston Marathon bombing ...   \n",
       "Birdman or (The Unexpected Virtue of Ignorance)  Illustrated upon the progress of his latest Br...   \n",
       "Up                                               Seventy-eight year old Carl Fredricksen travel...   \n",
       "\n",
       "                                                                    director  \\\n",
       "Title                                                                          \n",
       "Toni Erdmann                                                       Maren Ade   \n",
       "Mission: Impossible - Rogue Nation                     Christopher McQuarrie   \n",
       "Her                                                              Spike Jonze   \n",
       "The Judge                                                       David Dobkin   \n",
       "The Fault in Our Stars                                            Josh Boone   \n",
       "The imposible                                                    J.A. Bayona   \n",
       "Goksung                                                          Hong-jin Na   \n",
       "Patriots Day                                                      Peter Berg   \n",
       "Birdman or (The Unexpected Virtue of Ignorance)  Alejandro González Iñárritu   \n",
       "Up                                                               Pete Docter   \n",
       "\n",
       "                                                                                            actors  \\\n",
       "Title                                                                                                \n",
       "Toni Erdmann                                     Sandra Hüller, Peter Simonischek, Michael Witt...   \n",
       "Mission: Impossible - Rogue Nation               Tom Cruise, Rebecca Ferguson, Jeremy Renner, S...   \n",
       "Her                                              Joaquin Phoenix, Amy Adams, Scarlett Johansson...   \n",
       "The Judge                                        Robert Downey Jr., Robert Duvall, Vera Farmiga...   \n",
       "The Fault in Our Stars                           Shailene Woodley, Ansel Elgort, Nat Wolff, Lau...   \n",
       "The imposible                                    Naomi Watts, Ewan McGregor, Tom Holland, Oakle...   \n",
       "Goksung                                          Jun Kunimura, Jung-min Hwang, Do-won Kwak, Woo...   \n",
       "Patriots Day                                     Mark Wahlberg, Michelle Monaghan, J.K. Simmons...   \n",
       "Birdman or (The Unexpected Virtue of Ignorance)  Michael Keaton, Zach Galifianakis,Edward Norto...   \n",
       "Up                                               Edward Asner, Jordan Nagai, John Ratzenberger,...   \n",
       "\n",
       "                                                 year  runtime  rating  \\\n",
       "Title                                                                    \n",
       "Toni Erdmann                                     2016      162     7.6   \n",
       "Mission: Impossible - Rogue Nation               2015      131     7.4   \n",
       "Her                                              2013      126     8.0   \n",
       "The Judge                                        2014      141     7.4   \n",
       "The Fault in Our Stars                           2014      126     7.8   \n",
       "The imposible                                    2012      114     7.6   \n",
       "Goksung                                          2016      156     7.5   \n",
       "Patriots Day                                     2016      133     7.4   \n",
       "Birdman or (The Unexpected Virtue of Ignorance)  2014      119     7.8   \n",
       "Up                                               2009       96     8.3   \n",
       "\n",
       "                                                  votes  revenue  metascore  \n",
       "Title                                                                        \n",
       "Toni Erdmann                                      24387     1.48       93.0  \n",
       "Mission: Impossible - Rogue Nation               257472   195.00       75.0  \n",
       "Her                                              390531    25.56       90.0  \n",
       "The Judge                                        146812    47.11       48.0  \n",
       "The Fault in Our Stars                           271301   124.87       69.0  \n",
       "The imposible                                    156189    19.00       73.0  \n",
       "Goksung                                           17962     0.79       81.0  \n",
       "Patriots Day                                      39784    31.86       69.0  \n",
       "Birdman or (The Unexpected Virtue of Ignorance)  440299    42.34       88.0  \n",
       "Up                                               722203   292.98       88.0  "
      ]
     },
     "execution_count": 22,
     "metadata": {},
     "output_type": "execute_result"
    }
   ],
   "source": [
    "top250.sample(10)"
   ]
  },
  {
   "cell_type": "markdown",
   "id": "221583fe",
   "metadata": {},
   "source": [
    "### d. Browse through the columns of the dataset"
   ]
  },
  {
   "cell_type": "code",
   "execution_count": 23,
   "id": "373311b3",
   "metadata": {},
   "outputs": [
    {
     "data": {
      "text/plain": [
       "Index(['rank', 'genre', 'description', 'director', 'actors', 'year', 'runtime',\n",
       "       'rating', 'votes', 'revenue', 'metascore'],\n",
       "      dtype='object')"
      ]
     },
     "execution_count": 23,
     "metadata": {},
     "output_type": "execute_result"
    }
   ],
   "source": [
    "top250.columns"
   ]
  },
  {
   "cell_type": "markdown",
   "id": "3336860e",
   "metadata": {},
   "source": [
    "### e. View summary statistics for a dataset"
   ]
  },
  {
   "cell_type": "code",
   "execution_count": 24,
   "id": "a2bfe631",
   "metadata": {},
   "outputs": [],
   "source": [
    "pd.set_option('display.float_format', '{:.2f}'.format)"
   ]
  },
  {
   "cell_type": "code",
   "execution_count": 25,
   "id": "60b9403f",
   "metadata": {},
   "outputs": [
    {
     "data": {
      "text/html": [
       "<div>\n",
       "<style scoped>\n",
       "    .dataframe tbody tr th:only-of-type {\n",
       "        vertical-align: middle;\n",
       "    }\n",
       "\n",
       "    .dataframe tbody tr th {\n",
       "        vertical-align: top;\n",
       "    }\n",
       "\n",
       "    .dataframe thead th {\n",
       "        text-align: right;\n",
       "    }\n",
       "</style>\n",
       "<table border=\"1\" class=\"dataframe\">\n",
       "  <thead>\n",
       "    <tr style=\"text-align: right;\">\n",
       "      <th></th>\n",
       "      <th>count</th>\n",
       "      <th>mean</th>\n",
       "      <th>std</th>\n",
       "      <th>min</th>\n",
       "      <th>25%</th>\n",
       "      <th>50%</th>\n",
       "      <th>75%</th>\n",
       "      <th>max</th>\n",
       "    </tr>\n",
       "  </thead>\n",
       "  <tbody>\n",
       "    <tr>\n",
       "      <th>rank</th>\n",
       "      <td>250.00</td>\n",
       "      <td>393.25</td>\n",
       "      <td>276.71</td>\n",
       "      <td>1.00</td>\n",
       "      <td>150.25</td>\n",
       "      <td>338.00</td>\n",
       "      <td>631.25</td>\n",
       "      <td>992.00</td>\n",
       "    </tr>\n",
       "    <tr>\n",
       "      <th>year</th>\n",
       "      <td>250.00</td>\n",
       "      <td>2011.93</td>\n",
       "      <td>3.33</td>\n",
       "      <td>2006.00</td>\n",
       "      <td>2009.00</td>\n",
       "      <td>2012.00</td>\n",
       "      <td>2015.00</td>\n",
       "      <td>2016.00</td>\n",
       "    </tr>\n",
       "    <tr>\n",
       "      <th>runtime</th>\n",
       "      <td>250.00</td>\n",
       "      <td>123.49</td>\n",
       "      <td>21.44</td>\n",
       "      <td>66.00</td>\n",
       "      <td>107.00</td>\n",
       "      <td>120.50</td>\n",
       "      <td>137.00</td>\n",
       "      <td>187.00</td>\n",
       "    </tr>\n",
       "    <tr>\n",
       "      <th>rating</th>\n",
       "      <td>250.00</td>\n",
       "      <td>7.80</td>\n",
       "      <td>0.31</td>\n",
       "      <td>7.30</td>\n",
       "      <td>7.50</td>\n",
       "      <td>7.80</td>\n",
       "      <td>8.00</td>\n",
       "      <td>9.00</td>\n",
       "    </tr>\n",
       "    <tr>\n",
       "      <th>votes</th>\n",
       "      <td>250.00</td>\n",
       "      <td>324774.82</td>\n",
       "      <td>258762.03</td>\n",
       "      <td>61.00</td>\n",
       "      <td>137304.25</td>\n",
       "      <td>292594.50</td>\n",
       "      <td>450024.75</td>\n",
       "      <td>1791916.00</td>\n",
       "    </tr>\n",
       "    <tr>\n",
       "      <th>revenue</th>\n",
       "      <td>250.00</td>\n",
       "      <td>116.81</td>\n",
       "      <td>136.84</td>\n",
       "      <td>0.01</td>\n",
       "      <td>19.29</td>\n",
       "      <td>73.58</td>\n",
       "      <td>168.89</td>\n",
       "      <td>936.63</td>\n",
       "    </tr>\n",
       "    <tr>\n",
       "      <th>metascore</th>\n",
       "      <td>250.00</td>\n",
       "      <td>73.50</td>\n",
       "      <td>12.24</td>\n",
       "      <td>34.00</td>\n",
       "      <td>67.00</td>\n",
       "      <td>74.00</td>\n",
       "      <td>81.00</td>\n",
       "      <td>100.00</td>\n",
       "    </tr>\n",
       "  </tbody>\n",
       "</table>\n",
       "</div>"
      ],
      "text/plain": [
       "           count      mean       std     min       25%       50%       75%  \\\n",
       "rank      250.00    393.25    276.71    1.00    150.25    338.00    631.25   \n",
       "year      250.00   2011.93      3.33 2006.00   2009.00   2012.00   2015.00   \n",
       "runtime   250.00    123.49     21.44   66.00    107.00    120.50    137.00   \n",
       "rating    250.00      7.80      0.31    7.30      7.50      7.80      8.00   \n",
       "votes     250.00 324774.82 258762.03   61.00 137304.25 292594.50 450024.75   \n",
       "revenue   250.00    116.81    136.84    0.01     19.29     73.58    168.89   \n",
       "metascore 250.00     73.50     12.24   34.00     67.00     74.00     81.00   \n",
       "\n",
       "                 max  \n",
       "rank          992.00  \n",
       "year         2016.00  \n",
       "runtime       187.00  \n",
       "rating          9.00  \n",
       "votes     1791916.00  \n",
       "revenue       936.63  \n",
       "metascore     100.00  "
      ]
     },
     "execution_count": 25,
     "metadata": {},
     "output_type": "execute_result"
    }
   ],
   "source": [
    "top250.describe().T"
   ]
  },
  {
   "cell_type": "markdown",
   "id": "38b0a770",
   "metadata": {},
   "source": [
    "## 7. Check the accuracy of the data and whether there are any missing values.\n",
    "\n",
    "Note: You can perform this check similarly to Task 4."
   ]
  },
  {
   "cell_type": "code",
   "execution_count": 26,
   "id": "1e6bfeb3",
   "metadata": {},
   "outputs": [
    {
     "data": {
      "text/plain": [
       "rank           0\n",
       "genre          0\n",
       "description    0\n",
       "director       0\n",
       "actors         0\n",
       "year           0\n",
       "runtime        0\n",
       "rating         0\n",
       "votes          0\n",
       "revenue        0\n",
       "metascore      0\n",
       "dtype: int64"
      ]
     },
     "execution_count": 26,
     "metadata": {},
     "output_type": "execute_result"
    }
   ],
   "source": [
    "top250.isnull().sum()"
   ]
  },
  {
   "cell_type": "markdown",
   "id": "30fffe1a",
   "metadata": {},
   "source": [
    "## 8. Verileri görselleştirme:"
   ]
  },
  {
   "cell_type": "markdown",
   "id": "4a3296fd",
   "metadata": {},
   "source": [
    "### a. Matplotlib kütüphanesi kullanarak, yıllara göre filmlerin sayısını gösteren bir çizgi grafik çizin."
   ]
  },
  {
   "cell_type": "markdown",
   "id": "0bf52b72",
   "metadata": {},
   "source": [
    "1. **movies_per_year = top250['year'].value_counts().sort_index()**\n",
    "   - top250['year'].value_counts(): Counts each unique value of the 'year' column in the top250 DataFrame. So it calculates how many movies there are in each year.\n",
    "   - .sort_index(): This sorts the counts by year values.\n",
    "\n",
    "2. **plt.plot(movies_per_year.index, movies_per_year.values, color='blue')**\n",
    "   - plt.plot(): It is a function of the matplotlib.pyplot library and draws a line plot.\n",
    "   - movies_per_year.index: Places year values ​​on the x-axis.\n",
    "   - movies_per_year.values: Places the number of movies in each year on the y-axis.\n",
    "   - color='blue': Makes the color of the line blue."
   ]
  },
  {
   "cell_type": "code",
   "execution_count": 27,
   "id": "8216b83d",
   "metadata": {},
   "outputs": [
    {
     "data": {
      "text/plain": [
       "year\n",
       "2006    17\n",
       "2007    20\n",
       "2008    12\n",
       "2009    21\n",
       "2010    18\n",
       "2011    20\n",
       "2012    19\n",
       "2013    21\n",
       "2014    29\n",
       "2015    19\n",
       "2016    54\n",
       "Name: count, dtype: int64"
      ]
     },
     "execution_count": 27,
     "metadata": {},
     "output_type": "execute_result"
    }
   ],
   "source": [
    "movies_per_year = top250['year'].value_counts().sort_index()\n",
    "movies_per_year"
   ]
  },
  {
   "cell_type": "code",
   "execution_count": 28,
   "id": "6586d6c2",
   "metadata": {},
   "outputs": [
    {
     "data": {
      "image/png": "[encoded data removed]",
      "text/plain": [
       "<Figure size 800x500 with 1 Axes>"
      ]
     },
     "metadata": {},
     "output_type": "display_data"
    }
   ],
   "source": [
    "import matplotlib.pyplot as plt\n",
    "\n",
    "\n",
    "\n",
    "# Adjust chart size\n",
    "plt.figure(figsize=(8, 5))\n",
    "\n",
    "# Drawing\n",
    "plt.plot(movies_per_year.index, movies_per_year.values, color='blue', linewidth=2, marker='o', markersize=6)\n",
    "\n",
    "# Add title and axis labels\n",
    "plt.title('Number of Movies Shot by Years', fontsize=16)\n",
    "plt.xlabel('Year', fontsize=14)\n",
    "plt.ylabel('Movie Number', fontsize=14)\n",
    "\n",
    "# Add grid lines\n",
    "plt.grid(True, which='both', linestyle='--', linewidth=0.5)\n",
    "\n",
    "# To show all years on the x axis\n",
    "plt.xticks(rotation=45)\n",
    "\n",
    "# Write the numerical value on each dot\n",
    "for x, y in zip(movies_per_year.index, movies_per_year.values):\n",
    "    plt.text(x, y, str(y), fontsize=10, ha='center', va='bottom')\n",
    "\n",
    "# Show chart\n",
    "plt.show()\n"
   ]
  },
  {
   "cell_type": "markdown",
   "id": "cedbea40",
   "metadata": {},
   "source": [
    "### b. Using the Seaborn library, display the top 10 most produced movie genres with a bar chart."
   ]
  },
  {
   "cell_type": "markdown",
   "id": "95b4e760",
   "metadata": {},
   "source": [
    "\n",
    "\n",
    "We count how many times each unique movie genre appears using the 'genre' column of the `top250` DataFrame.\n",
    "\n",
    "1. **top250[\"genre\"].str.split(\",\", expand=True)**\n",
    "   - `str.split(\",\", expand=True)`: This method splits the 'genre' column in each row by commas and separates them into different columns. The `expand=True` parameter places the split values into new columns.\n",
    "\n",
    "2. **.stack()**\n",
    "   - This method stacks multiple columns into a single column. In other words, it arranges each movie genre into a single column.\n",
    "\n",
    "3. **.value_counts()**\n",
    "   - This method counts each unique movie genre in the stacked column.\n",
    "\n",
    "```\n",
    "0    Action,Adventure\n",
    "1    Adventure,Sci-Fi\n",
    "2    Horror,Thriller\n",
    "```\n",
    "\n",
    "This code snippet will produce the following output:\n",
    "\n",
    "```\n",
    "Adventure    2\n",
    "Action       1\n",
    "Sci-Fi       1\n",
    "Horror       1\n",
    "Thriller     1\n",
    "```"
   ]
  },
  {
   "cell_type": "code",
   "execution_count": 29,
   "id": "9855a37d",
   "metadata": {},
   "outputs": [
    {
     "data": {
      "text/html": [
       "<div>\n",
       "<style scoped>\n",
       "    .dataframe tbody tr th:only-of-type {\n",
       "        vertical-align: middle;\n",
       "    }\n",
       "\n",
       "    .dataframe tbody tr th {\n",
       "        vertical-align: top;\n",
       "    }\n",
       "\n",
       "    .dataframe thead th {\n",
       "        text-align: right;\n",
       "    }\n",
       "</style>\n",
       "<table border=\"1\" class=\"dataframe\">\n",
       "  <thead>\n",
       "    <tr style=\"text-align: right;\">\n",
       "      <th></th>\n",
       "      <th>0</th>\n",
       "      <th>1</th>\n",
       "      <th>2</th>\n",
       "    </tr>\n",
       "    <tr>\n",
       "      <th>Title</th>\n",
       "      <th></th>\n",
       "      <th></th>\n",
       "      <th></th>\n",
       "    </tr>\n",
       "  </thead>\n",
       "  <tbody>\n",
       "    <tr>\n",
       "      <th>The Dark Knight</th>\n",
       "      <td>Action</td>\n",
       "      <td>Crime</td>\n",
       "      <td>Drama</td>\n",
       "    </tr>\n",
       "    <tr>\n",
       "      <th>Inception</th>\n",
       "      <td>Action</td>\n",
       "      <td>Adventure</td>\n",
       "      <td>Sci-Fi</td>\n",
       "    </tr>\n",
       "    <tr>\n",
       "      <th>Interstellar</th>\n",
       "      <td>Adventure</td>\n",
       "      <td>Drama</td>\n",
       "      <td>Sci-Fi</td>\n",
       "    </tr>\n",
       "    <tr>\n",
       "      <th>The Intouchables</th>\n",
       "      <td>Biography</td>\n",
       "      <td>Comedy</td>\n",
       "      <td>Drama</td>\n",
       "    </tr>\n",
       "    <tr>\n",
       "      <th>Kimi no na wa</th>\n",
       "      <td>Animation</td>\n",
       "      <td>Drama</td>\n",
       "      <td>Fantasy</td>\n",
       "    </tr>\n",
       "    <tr>\n",
       "      <th>...</th>\n",
       "      <td>...</td>\n",
       "      <td>...</td>\n",
       "      <td>...</td>\n",
       "    </tr>\n",
       "    <tr>\n",
       "      <th>Patriots Day</th>\n",
       "      <td>Drama</td>\n",
       "      <td>History</td>\n",
       "      <td>Thriller</td>\n",
       "    </tr>\n",
       "    <tr>\n",
       "      <th>Me Before You</th>\n",
       "      <td>Drama</td>\n",
       "      <td>Romance</td>\n",
       "      <td>None</td>\n",
       "    </tr>\n",
       "    <tr>\n",
       "      <th>Mission: Impossible - Rogue Nation</th>\n",
       "      <td>Action</td>\n",
       "      <td>Adventure</td>\n",
       "      <td>Thriller</td>\n",
       "    </tr>\n",
       "    <tr>\n",
       "      <th>Blue Valentine</th>\n",
       "      <td>Drama</td>\n",
       "      <td>Romance</td>\n",
       "      <td>None</td>\n",
       "    </tr>\n",
       "    <tr>\n",
       "      <th>I Origins</th>\n",
       "      <td>Drama</td>\n",
       "      <td>Romance</td>\n",
       "      <td>Sci-Fi</td>\n",
       "    </tr>\n",
       "  </tbody>\n",
       "</table>\n",
       "<p>250 rows × 3 columns</p>\n",
       "</div>"
      ],
      "text/plain": [
       "                                            0          1         2\n",
       "Title                                                             \n",
       "The Dark Knight                        Action      Crime     Drama\n",
       "Inception                              Action  Adventure    Sci-Fi\n",
       "Interstellar                        Adventure      Drama    Sci-Fi\n",
       "The Intouchables                    Biography     Comedy     Drama\n",
       "Kimi no na wa                       Animation      Drama   Fantasy\n",
       "...                                       ...        ...       ...\n",
       "Patriots Day                            Drama    History  Thriller\n",
       "Me Before You                           Drama    Romance      None\n",
       "Mission: Impossible - Rogue Nation     Action  Adventure  Thriller\n",
       "Blue Valentine                          Drama    Romance      None\n",
       "I Origins                               Drama    Romance    Sci-Fi\n",
       "\n",
       "[250 rows x 3 columns]"
      ]
     },
     "execution_count": 29,
     "metadata": {},
     "output_type": "execute_result"
    }
   ],
   "source": [
    "top250[\"genre\"].str.split(\",\", expand=True)"
   ]
  },
  {
   "cell_type": "code",
   "execution_count": 30,
   "id": "4544c426",
   "metadata": {},
   "outputs": [
    {
     "data": {
      "text/plain": [
       "Title             \n",
       "The Dark Knight  0       Action\n",
       "                 1        Crime\n",
       "                 2        Drama\n",
       "Inception        0       Action\n",
       "                 1    Adventure\n",
       "                        ...    \n",
       "Blue Valentine   0        Drama\n",
       "                 1      Romance\n",
       "I Origins        0        Drama\n",
       "                 1      Romance\n",
       "                 2       Sci-Fi\n",
       "Length: 665, dtype: object"
      ]
     },
     "execution_count": 30,
     "metadata": {},
     "output_type": "execute_result"
    }
   ],
   "source": [
    "top250[\"genre\"].str.split(\",\", expand=True).stack()"
   ]
  },
  {
   "cell_type": "code",
   "execution_count": 31,
   "id": "db42aab7",
   "metadata": {},
   "outputs": [
    {
     "data": {
      "text/plain": [
       "Drama        175\n",
       "Adventure     70\n",
       "Comedy        58\n",
       "Action        54\n",
       "Thriller      38\n",
       "Biography     36\n",
       "Crime         34\n",
       "Sci-Fi        30\n",
       "Mystery       30\n",
       "Romance       29\n",
       "Fantasy       28\n",
       "Animation     24\n",
       "History       14\n",
       "Family        12\n",
       "Horror         8\n",
       "War            7\n",
       "Sport          7\n",
       "Music          6\n",
       "Musical        3\n",
       "Western        2\n",
       "Name: count, dtype: int64"
      ]
     },
     "execution_count": 31,
     "metadata": {},
     "output_type": "execute_result"
    }
   ],
   "source": [
    "top250[\"genre\"].str.split(\",\", expand=True).stack().value_counts()"
   ]
  },
  {
   "cell_type": "code",
   "execution_count": 32,
   "id": "68121a94",
   "metadata": {},
   "outputs": [
    {
     "data": {
      "text/plain": [
       "Drama        175\n",
       "Adventure     70\n",
       "Comedy        58\n",
       "Action        54\n",
       "Thriller      38\n",
       "Biography     36\n",
       "Crime         34\n",
       "Sci-Fi        30\n",
       "Mystery       30\n",
       "Romance       29\n",
       "Name: count, dtype: int64"
      ]
     },
     "execution_count": 32,
     "metadata": {},
     "output_type": "execute_result"
    }
   ],
   "source": [
    "top250[\"genre\"].str.split(\",\", expand=True).stack().value_counts()[:10]"
   ]
  },
  {
   "cell_type": "code",
   "execution_count": 33,
   "id": "87f3bb0a",
   "metadata": {},
   "outputs": [],
   "source": [
    "top_genres = top250[\"genre\"].str.split(\",\", expand=True).stack().value_counts()[:10]"
   ]
  },
  {
   "cell_type": "markdown",
   "id": "07a3a4d2",
   "metadata": {},
   "source": [
    "We plot the top 10 most popular movie genres as a bar chart using the `genre_count` variable.\n",
    "\n",
    "1. **top_genres = genre_count[:10]**\n",
    "   - This line takes the first 10 elements from the `genre_count` variable (the 10 genres with the highest counts).\n",
    "\n",
    "2. **sns.set_style(\"whitegrid\")**\n",
    "   - Sets the style of the plot to white grid using the Seaborn library (sns).\n",
    "\n",
    "3. **plt.figure(figsize=(10,6))**\n",
    "   - Defines the size of the plot: width of 10 units and height of 6 units.\n",
    "\n",
    "4. **ax = sns.barplot(x=top_genres.values, y=top_genres.index, palette=\"Blues_d\")**\n",
    "   - `sns.barplot()`: A function from the Seaborn library that creates a bar chart.\n",
    "   - `x=top_genres.values`: Places the number of movies on the x-axis.\n",
    "   - `y=top_genres.index`: Places the movie genres on the y-axis.\n",
    "   - `palette=\"Blues_d\"`: Defines the color palette of the plot.\n",
    "\n",
    "5. **ax.set(xlabel='Number of Movies', ylabel='Genres')**\n",
    "   - Sets the x-axis label to 'Number of Movies' and the y-axis label to 'Genres'.\n",
    "\n",
    "6. **plt.title(\"Top 10 Movie Genres\")**\n",
    "   - Sets the title of the plot to 'Top 10 Movie Genres'.\n",
    "\n",
    "7. **plt.show()**\n",
    "   - Displays the created plot."
   ]
  },
  {
   "cell_type": "code",
   "execution_count": 34,
   "id": "9cfb065f",
   "metadata": {
    "ExecuteTime": {
     "end_time": "2023-09-24T15:09:03.147386Z",
     "start_time": "2023-09-24T15:09:02.468797Z"
    }
   },
   "outputs": [
    {
     "data": {
      "image/png": "[encoded data removed]",
      "text/plain": [
       "<Figure size 1000x600 with 1 Axes>"
      ]
     },
     "metadata": {},
     "output_type": "display_data"
    }
   ],
   "source": [
    "\n",
    "# Create bar chart\n",
    "sns.set_style(\"whitegrid\")\n",
    "plt.figure(figsize=(10,6))\n",
    "ax = sns.barplot(y=top_genres.values, x=top_genres.index, palette=\"Blues_d\")\n",
    "\n",
    "for container in ax.containers:\n",
    "    ax.bar_label(container, fmt='%d', label_type='edge', fontsize=12, color='black', padding=3)\n",
    "    \n",
    "ax.set(xlabel='Number of Movies', ylabel='Genres')\n",
    "plt.title(\"Top 10 Movie Genres\")\n",
    "plt.show()"
   ]
  },
  {
   "cell_type": "markdown",
   "id": "6521c319",
   "metadata": {},
   "source": [
    "### c. Using the Matplotlib and Plotly libraries, create two separate pie charts showing the number of movies by genre."
   ]
  },
  {
   "cell_type": "markdown",
   "id": "bbd744a6",
   "metadata": {},
   "source": [
    "We select the top 10 most frequent movie genres and create a pie chart based on the counts of these genres.\n",
    "\n",
    "**top_genres = top250['genre'].value_counts().head(10)**\n",
    "This line counts the genres in the 'genre' column of the `top250` DataFrame (using `value_counts()`) and selects the top 10 most frequent genres (using `head(10)`).\n",
    "\n",
    "**fig = px.pie(values=top_genres.values, names=top_genres.index,\n",
    "             title='Number of Movies by Top 10 Movie Genres',\n",
    "             labels={'value': 'Count', 'names': 'Genres'},\n",
    "             hover_data={'value': top_genres.values, 'names': top_genres.index},\n",
    "             hole=0.5)**\n",
    "\n",
    "- `values=top_genres.values`: Values used for the size of the slices.\n",
    "- `names=top_genres.index`: Labels for the slices.\n",
    "- `title`: Title of the chart.\n",
    "- `labels`: Axis labels.\n",
    "- `hover_data`: Information displayed when hovering over a slice.\n",
    "- `hole=0.5`: The proportion of the hole in the center of the pie chart, creating a donut chart when set to 0.5.\n",
    "\n",
    "**fig.update_traces(textposition='inside', textinfo='percent+value', textfont_size=12)**\n",
    "\n",
    "This line displays the percentage and count inside each slice.\n",
    "\n",
    "- `textposition='inside'`: Ensures the text is written inside the slices.\n",
    "- `textinfo='percent+value'`: Displays both the percentage and count.\n",
    "- `textfont_size=12`: Sets the font size of the text.\n",
    "\n",
    "**fig.update_traces(marker=dict(line=dict(color='white', width=2)))**\n",
    "\n",
    "This line adds white borders between each slice. `width=2` specifies the thickness of the border lines.\n",
    "\n",
    "**fig.show()**\n",
    "\n",
    "This line displays the created chart."
   ]
  },
  {
   "cell_type": "code",
   "execution_count": 35,
   "id": "8808490e",
   "metadata": {},
   "outputs": [
    {
     "data": {
      "application/vnd.plotly.v1+json": {
       "config": {
        "plotlyServerURL": "https://plot.ly"
       },
       "data": [
        {
         "customdata": [
          [
           13,
           "Action,Adventure,Sci-Fi"
          ],
          [
           12,
           "Animation,Adventure,Comedy"
          ],
          [
           12,
           "Drama"
          ],
          [
           11,
           "Comedy,Drama"
          ],
          [
           9,
           "Crime,Drama,Mystery"
          ],
          [
           9,
           "Drama,Romance"
          ],
          [
           7,
           "Biography,Drama"
          ],
          [
           7,
           "Crime,Drama,Thriller"
          ],
          [
           7,
           "Comedy,Drama,Romance"
          ],
          [
           6,
           "Biography,Drama,History"
          ]
         ],
         "domain": {
          "x": [
           0,
           1
          ],
          "y": [
           0,
           1
          ]
         },
         "hole": 0.5,
         "hovertemplate": "Genres=%{customdata[1]}<br>value=%{value}<br>Count=%{customdata[0]}<extra></extra>",
         "labels": [
          "Action,Adventure,Sci-Fi",
          "Animation,Adventure,Comedy",
          "Drama",
          "Comedy,Drama",
          "Crime,Drama,Mystery",
          "Drama,Romance",
          "Biography,Drama",
          "Crime,Drama,Thriller",
          "Comedy,Drama,Romance",
          "Biography,Drama,History"
         ],
         "legendgroup": "",
         "marker": {
          "line": {
           "color": "white",
           "width": 2
          }
         },
         "name": "",
         "showlegend": true,
         "textfont": {
          "size": 12
         },
         "textinfo": "percent+value",
         "textposition": "inside",
         "type": "pie",
         "values": [
          13,
          12,
          12,
          11,
          9,
          9,
          7,
          7,
          7,
          6
         ]
        }
       ],
       "layout": {
        "legend": {
         "tracegroupgap": 0
        },
        "template": {
         "data": {
          "bar": [
           {
            "error_x": {
             "color": "#2a3f5f"
            },
            "error_y": {
             "color": "#2a3f5f"
            },
            "marker": {
             "line": {
              "color": "#E5ECF6",
              "width": 0.5
             },
             "pattern": {
              "fillmode": "overlay",
              "size": 10,
              "solidity": 0.2
             }
            },
            "type": "bar"
           }
          ],
          "barpolar": [
           {
            "marker": {
             "line": {
              "color": "#E5ECF6",
              "width": 0.5
             },
             "pattern": {
              "fillmode": "overlay",
              "size": 10,
              "solidity": 0.2
             }
            },
            "type": "barpolar"
           }
          ],
          "carpet": [
           {
            "aaxis": {
             "endlinecolor": "#2a3f5f",
             "gridcolor": "white",
             "linecolor": "white",
             "minorgridcolor": "white",
             "startlinecolor": "#2a3f5f"
            },
            "baxis": {
             "endlinecolor": "#2a3f5f",
             "gridcolor": "white",
             "linecolor": "white",
             "minorgridcolor": "white",
             "startlinecolor": "#2a3f5f"
            },
            "type": "carpet"
           }
          ],
          "choropleth": [
           {
            "colorbar": {
             "outlinewidth": 0,
             "ticks": ""
            },
            "type": "choropleth"
           }
          ],
          "contour": [
           {
            "colorbar": {
             "outlinewidth": 0,
             "ticks": ""
            },
            "colorscale": [
             [
              0,
              "#0d0887"
             ],
             [
              0.1111111111111111,
              "#46039f"
             ],
             [
              0.2222222222222222,
              "#7201a8"
             ],
             [
              0.3333333333333333,
              "#9c179e"
             ],
             [
              0.4444444444444444,
              "#bd3786"
             ],
             [
              0.5555555555555556,
              "#d8576b"
             ],
             [
              0.6666666666666666,
              "#ed7953"
             ],
             [
              0.7777777777777778,
              "#fb9f3a"
             ],
             [
              0.8888888888888888,
              "#fdca26"
             ],
             [
              1,
              "#f0f921"
             ]
            ],
            "type": "contour"
           }
          ],
          "contourcarpet": [
           {
            "colorbar": {
             "outlinewidth": 0,
             "ticks": ""
            },
            "type": "contourcarpet"
           }
          ],
          "heatmap": [
           {
            "colorbar": {
             "outlinewidth": 0,
             "ticks": ""
            },
            "colorscale": [
             [
              0,
              "#0d0887"
             ],
             [
              0.1111111111111111,
              "#46039f"
             ],
             [
              0.2222222222222222,
              "#7201a8"
             ],
             [
              0.3333333333333333,
              "#9c179e"
             ],
             [
              0.4444444444444444,
              "#bd3786"
             ],
             [
              0.5555555555555556,
              "#d8576b"
             ],
             [
              0.6666666666666666,
              "#ed7953"
             ],
             [
              0.7777777777777778,
              "#fb9f3a"
             ],
             [
              0.8888888888888888,
              "#fdca26"
             ],
             [
              1,
              "#f0f921"
             ]
            ],
            "type": "heatmap"
           }
          ],
          "heatmapgl": [
           {
            "colorbar": {
             "outlinewidth": 0,
             "ticks": ""
            },
            "colorscale": [
             [
              0,
              "#0d0887"
             ],
             [
              0.1111111111111111,
              "#46039f"
             ],
             [
              0.2222222222222222,
              "#7201a8"
             ],
             [
              0.3333333333333333,
              "#9c179e"
             ],
             [
              0.4444444444444444,
              "#bd3786"
             ],
             [
              0.5555555555555556,
              "#d8576b"
             ],
             [
              0.6666666666666666,
              "#ed7953"
             ],
             [
              0.7777777777777778,
              "#fb9f3a"
             ],
             [
              0.8888888888888888,
              "#fdca26"
             ],
             [
              1,
              "#f0f921"
             ]
            ],
            "type": "heatmapgl"
           }
          ],
          "histogram": [
           {
            "marker": {
             "pattern": {
              "fillmode": "overlay",
              "size": 10,
              "solidity": 0.2
             }
            },
            "type": "histogram"
           }
          ],
          "histogram2d": [
           {
            "colorbar": {
             "outlinewidth": 0,
             "ticks": ""
            },
            "colorscale": [
             [
              0,
              "#0d0887"
             ],
             [
              0.1111111111111111,
              "#46039f"
             ],
             [
              0.2222222222222222,
              "#7201a8"
             ],
             [
              0.3333333333333333,
              "#9c179e"
             ],
             [
              0.4444444444444444,
              "#bd3786"
             ],
             [
              0.5555555555555556,
              "#d8576b"
             ],
             [
              0.6666666666666666,
              "#ed7953"
             ],
             [
              0.7777777777777778,
              "#fb9f3a"
             ],
             [
              0.8888888888888888,
              "#fdca26"
             ],
             [
              1,
              "#f0f921"
             ]
            ],
            "type": "histogram2d"
           }
          ],
          "histogram2dcontour": [
           {
            "colorbar": {
             "outlinewidth": 0,
             "ticks": ""
            },
            "colorscale": [
             [
              0,
              "#0d0887"
             ],
             [
              0.1111111111111111,
              "#46039f"
             ],
             [
              0.2222222222222222,
              "#7201a8"
             ],
             [
              0.3333333333333333,
              "#9c179e"
             ],
             [
              0.4444444444444444,
              "#bd3786"
             ],
             [
              0.5555555555555556,
              "#d8576b"
             ],
             [
              0.6666666666666666,
              "#ed7953"
             ],
             [
              0.7777777777777778,
              "#fb9f3a"
             ],
             [
              0.8888888888888888,
              "#fdca26"
             ],
             [
              1,
              "#f0f921"
             ]
            ],
            "type": "histogram2dcontour"
           }
          ],
          "mesh3d": [
           {
            "colorbar": {
             "outlinewidth": 0,
             "ticks": ""
            },
            "type": "mesh3d"
           }
          ],
          "parcoords": [
           {
            "line": {
             "colorbar": {
              "outlinewidth": 0,
              "ticks": ""
             }
            },
            "type": "parcoords"
           }
          ],
          "pie": [
           {
            "automargin": true,
            "type": "pie"
           }
          ],
          "scatter": [
           {
            "fillpattern": {
             "fillmode": "overlay",
             "size": 10,
             "solidity": 0.2
            },
            "type": "scatter"
           }
          ],
          "scatter3d": [
           {
            "line": {
             "colorbar": {
              "outlinewidth": 0,
              "ticks": ""
             }
            },
            "marker": {
             "colorbar": {
              "outlinewidth": 0,
              "ticks": ""
             }
            },
            "type": "scatter3d"
           }
          ],
          "scattercarpet": [
           {
            "marker": {
             "colorbar": {
              "outlinewidth": 0,
              "ticks": ""
             }
            },
            "type": "scattercarpet"
           }
          ],
          "scattergeo": [
           {
            "marker": {
             "colorbar": {
              "outlinewidth": 0,
              "ticks": ""
             }
            },
            "type": "scattergeo"
           }
          ],
          "scattergl": [
           {
            "marker": {
             "colorbar": {
              "outlinewidth": 0,
              "ticks": ""
             }
            },
            "type": "scattergl"
           }
          ],
          "scattermapbox": [
           {
            "marker": {
             "colorbar": {
              "outlinewidth": 0,
              "ticks": ""
             }
            },
            "type": "scattermapbox"
           }
          ],
          "scatterpolar": [
           {
            "marker": {
             "colorbar": {
              "outlinewidth": 0,
              "ticks": ""
             }
            },
            "type": "scatterpolar"
           }
          ],
          "scatterpolargl": [
           {
            "marker": {
             "colorbar": {
              "outlinewidth": 0,
              "ticks": ""
             }
            },
            "type": "scatterpolargl"
           }
          ],
          "scatterternary": [
           {
            "marker": {
             "colorbar": {
              "outlinewidth": 0,
              "ticks": ""
             }
            },
            "type": "scatterternary"
           }
          ],
          "surface": [
           {
            "colorbar": {
             "outlinewidth": 0,
             "ticks": ""
            },
            "colorscale": [
             [
              0,
              "#0d0887"
             ],
             [
              0.1111111111111111,
              "#46039f"
             ],
             [
              0.2222222222222222,
              "#7201a8"
             ],
             [
              0.3333333333333333,
              "#9c179e"
             ],
             [
              0.4444444444444444,
              "#bd3786"
             ],
             [
              0.5555555555555556,
              "#d8576b"
             ],
             [
              0.6666666666666666,
              "#ed7953"
             ],
             [
              0.7777777777777778,
              "#fb9f3a"
             ],
             [
              0.8888888888888888,
              "#fdca26"
             ],
             [
              1,
              "#f0f921"
             ]
            ],
            "type": "surface"
           }
          ],
          "table": [
           {
            "cells": {
             "fill": {
              "color": "#EBF0F8"
             },
             "line": {
              "color": "white"
             }
            },
            "header": {
             "fill": {
              "color": "#C8D4E3"
             },
             "line": {
              "color": "white"
             }
            },
            "type": "table"
           }
          ]
         },
         "layout": {
          "annotationdefaults": {
           "arrowcolor": "#2a3f5f",
           "arrowhead": 0,
           "arrowwidth": 1
          },
          "autotypenumbers": "strict",
          "coloraxis": {
           "colorbar": {
            "outlinewidth": 0,
            "ticks": ""
           }
          },
          "colorscale": {
           "diverging": [
            [
             0,
             "#8e0152"
            ],
            [
             0.1,
             "#c51b7d"
            ],
            [
             0.2,
             "#de77ae"
            ],
            [
             0.3,
             "#f1b6da"
            ],
            [
             0.4,
             "#fde0ef"
            ],
            [
             0.5,
             "#f7f7f7"
            ],
            [
             0.6,
             "#e6f5d0"
            ],
            [
             0.7,
             "#b8e186"
            ],
            [
             0.8,
             "#7fbc41"
            ],
            [
             0.9,
             "#4d9221"
            ],
            [
             1,
             "#276419"
            ]
           ],
           "sequential": [
            [
             0,
             "#0d0887"
            ],
            [
             0.1111111111111111,
             "#46039f"
            ],
            [
             0.2222222222222222,
             "#7201a8"
            ],
            [
             0.3333333333333333,
             "#9c179e"
            ],
            [
             0.4444444444444444,
             "#bd3786"
            ],
            [
             0.5555555555555556,
             "#d8576b"
            ],
            [
             0.6666666666666666,
             "#ed7953"
            ],
            [
             0.7777777777777778,
             "#fb9f3a"
            ],
            [
             0.8888888888888888,
             "#fdca26"
            ],
            [
             1,
             "#f0f921"
            ]
           ],
           "sequentialminus": [
            [
             0,
             "#0d0887"
            ],
            [
             0.1111111111111111,
             "#46039f"
            ],
            [
             0.2222222222222222,
             "#7201a8"
            ],
            [
             0.3333333333333333,
             "#9c179e"
            ],
            [
             0.4444444444444444,
             "#bd3786"
            ],
            [
             0.5555555555555556,
             "#d8576b"
            ],
            [
             0.6666666666666666,
             "#ed7953"
            ],
            [
             0.7777777777777778,
             "#fb9f3a"
            ],
            [
             0.8888888888888888,
             "#fdca26"
            ],
            [
             1,
             "#f0f921"
            ]
           ]
          },
          "colorway": [
           "#636efa",
           "#EF553B",
           "#00cc96",
           "#ab63fa",
           "#FFA15A",
           "#19d3f3",
           "#FF6692",
           "#B6E880",
           "#FF97FF",
           "#FECB52"
          ],
          "font": {
           "color": "#2a3f5f"
          },
          "geo": {
           "bgcolor": "white",
           "lakecolor": "white",
           "landcolor": "#E5ECF6",
           "showlakes": true,
           "showland": true,
           "subunitcolor": "white"
          },
          "hoverlabel": {
           "align": "left"
          },
          "hovermode": "closest",
          "mapbox": {
           "style": "light"
          },
          "paper_bgcolor": "white",
          "plot_bgcolor": "#E5ECF6",
          "polar": {
           "angularaxis": {
            "gridcolor": "white",
            "linecolor": "white",
            "ticks": ""
           },
           "bgcolor": "#E5ECF6",
           "radialaxis": {
            "gridcolor": "white",
            "linecolor": "white",
            "ticks": ""
           }
          },
          "scene": {
           "xaxis": {
            "backgroundcolor": "#E5ECF6",
            "gridcolor": "white",
            "gridwidth": 2,
            "linecolor": "white",
            "showbackground": true,
            "ticks": "",
            "zerolinecolor": "white"
           },
           "yaxis": {
            "backgroundcolor": "#E5ECF6",
            "gridcolor": "white",
            "gridwidth": 2,
            "linecolor": "white",
            "showbackground": true,
            "ticks": "",
            "zerolinecolor": "white"
           },
           "zaxis": {
            "backgroundcolor": "#E5ECF6",
            "gridcolor": "white",
            "gridwidth": 2,
            "linecolor": "white",
            "showbackground": true,
            "ticks": "",
            "zerolinecolor": "white"
           }
          },
          "shapedefaults": {
           "line": {
            "color": "#2a3f5f"
           }
          },
          "ternary": {
           "aaxis": {
            "gridcolor": "white",
            "linecolor": "white",
            "ticks": ""
           },
           "baxis": {
            "gridcolor": "white",
            "linecolor": "white",
            "ticks": ""
           },
           "bgcolor": "#E5ECF6",
           "caxis": {
            "gridcolor": "white",
            "linecolor": "white",
            "ticks": ""
           }
          },
          "title": {
           "x": 0.05
          },
          "xaxis": {
           "automargin": true,
           "gridcolor": "white",
           "linecolor": "white",
           "ticks": "",
           "title": {
            "standoff": 15
           },
           "zerolinecolor": "white",
           "zerolinewidth": 2
          },
          "yaxis": {
           "automargin": true,
           "gridcolor": "white",
           "linecolor": "white",
           "ticks": "",
           "title": {
            "standoff": 15
           },
           "zerolinecolor": "white",
           "zerolinewidth": 2
          }
         }
        },
        "title": {
         "text": "Number of Movies by the Top 10 Movie Genres"
        }
       }
      }
     },
     "metadata": {},
     "output_type": "display_data"
    }
   ],
   "source": [
    "top_genres = top250['genre'].value_counts().head(10)\n",
    "\n",
    "fig = px.pie(values=top_genres.values, names=top_genres.index,\n",
    "             title='Number of Movies by the Top 10 Movie Genres',\n",
    "             labels={'value': 'Count', 'names': 'Genres'},\n",
    "             hover_data={'value': top_genres.values, 'names': top_genres.index},\n",
    "             hole=0.5)\n",
    "\n",
    "fig.update_traces(textposition='inside', textinfo='percent+value', textfont_size=12)\n",
    "\n",
    "fig.update_traces(marker=dict(line=dict(color='white', width=2)))\n",
    "\n",
    "fig.show()\n"
   ]
  },
  {
   "cell_type": "code",
   "execution_count": null,
   "id": "5acdc501",
   "metadata": {},
   "outputs": [],
   "source": []
  },
  {
   "cell_type": "markdown",
   "id": "107cc566",
   "metadata": {},
   "source": [
    "We create a pie chart for the top 10 most common movie genres.\n",
    "\n",
    "**top_genres = top250['genre'].value_counts().head(10)**\n",
    "\n",
    "This line counts the movie genres in the 'genre' column of the `top250` DataFrame and selects the top 10 most common genres.\n",
    "\n",
    "**fig, ax = plt.subplots(figsize=(10, 10))\n",
    "ax.pie(top_genres.values, labels=top_genres.index, autopct='%1.1f%%', startangle=90,\n",
    "       explode=(0.1, 0.1, 0, 0, 0, 0, 0, 0, 0, 0), shadow=0.1, textprops={'fontsize': 14})**\n",
    "\n",
    "This section creates a pie chart using the matplotlib library.\n",
    "\n",
    "- `figsize=(10, 10)`: Sets the size of the chart.\n",
    "- `top_genres.values`: Values used for the size of the pie slices.\n",
    "- `labels=top_genres.index`: Labels for the slices.\n",
    "- `autopct='%1.1f%%'`: Displays the percentage value on each slice.\n",
    "- `startangle=90`: Sets the starting angle for the first slice.\n",
    "- `explode=(0.1, 0.1, 0, 0, 0, 0, 0, 0, 0, 0)`: Slightly offsets the first two slices from the center.\n",
    "- `shadow=0.1`: Adds a shadow to the slices.\n",
    "- `textprops={'fontsize': 14}`: Sets the font size of the text.\n",
    "\n",
    "**ax.set_title('Number of Movies by the Top 10 Movie Genres', fontsize=16, fontweight='bold')**\n",
    "**ax.axis('equal')**\n",
    "\n",
    "- `ax.set_title()`: Sets the title of the chart and the title font.\n",
    "- `ax.axis('equal')`: Ensures the x and y axes are scaled equally so the pie chart is a circle.\n",
    "\n",
    "**plt.show()**\n",
    "\n",
    "This line displays the created chart."
   ]
  },
  {
   "cell_type": "code",
   "execution_count": 36,
   "id": "92c628db",
   "metadata": {},
   "outputs": [
    {
     "data": {
      "image/png": "[encoded data removed]",
      "text/plain": [
       "<Figure size 1000x1000 with 1 Axes>"
      ]
     },
     "metadata": {},
     "output_type": "display_data"
    }
   ],
   "source": [
    "top_genres = top250['genre'].value_counts().head(10)\n",
    "\n",
    "fig, ax = plt.subplots(figsize=(10, 10))\n",
    "ax.pie(top_genres.values, labels=top_genres.index, autopct='%1.1f%%', startangle=90,\n",
    "       explode=(0.1, 0.1, 0, 0, 0, 0, 0, 0, 0, 0), shadow=0.1, textprops={'fontsize': 14})\n",
    "\n",
    "ax.set_title('Number of Movies by the Top 10 Movie Genres', fontsize=16, fontweight='bold')\n",
    "ax.axis('equal')\n",
    "\n",
    "plt.show()\n"
   ]
  },
  {
   "cell_type": "markdown",
   "id": "99fa29fc",
   "metadata": {},
   "source": [
    "## 9. Visualizing relationships"
   ]
  },
  {
   "cell_type": "markdown",
   "id": "999d70b6",
   "metadata": {},
   "source": [
    "### a. Using the Seaborn library, draw a heatmap showing the correlation of numerical variables in the data set."
   ]
  },
  {
   "cell_type": "code",
   "execution_count": 37,
   "id": "c17f7be5",
   "metadata": {
    "ExecuteTime": {
     "end_time": "2023-09-24T15:09:06.145071Z",
     "start_time": "2023-09-24T15:09:06.139279Z"
    }
   },
   "outputs": [
    {
     "data": {
      "text/html": [
       "<div>\n",
       "<style scoped>\n",
       "    .dataframe tbody tr th:only-of-type {\n",
       "        vertical-align: middle;\n",
       "    }\n",
       "\n",
       "    .dataframe tbody tr th {\n",
       "        vertical-align: top;\n",
       "    }\n",
       "\n",
       "    .dataframe thead th {\n",
       "        text-align: right;\n",
       "    }\n",
       "</style>\n",
       "<table border=\"1\" class=\"dataframe\">\n",
       "  <thead>\n",
       "    <tr style=\"text-align: right;\">\n",
       "      <th></th>\n",
       "      <th>rank</th>\n",
       "      <th>genre</th>\n",
       "      <th>description</th>\n",
       "      <th>director</th>\n",
       "      <th>actors</th>\n",
       "      <th>year</th>\n",
       "      <th>runtime</th>\n",
       "      <th>rating</th>\n",
       "      <th>votes</th>\n",
       "      <th>revenue</th>\n",
       "      <th>metascore</th>\n",
       "    </tr>\n",
       "    <tr>\n",
       "      <th>Title</th>\n",
       "      <th></th>\n",
       "      <th></th>\n",
       "      <th></th>\n",
       "      <th></th>\n",
       "      <th></th>\n",
       "      <th></th>\n",
       "      <th></th>\n",
       "      <th></th>\n",
       "      <th></th>\n",
       "      <th></th>\n",
       "      <th></th>\n",
       "    </tr>\n",
       "  </thead>\n",
       "  <tbody>\n",
       "    <tr>\n",
       "      <th>Guardians of the Galaxy</th>\n",
       "      <td>1</td>\n",
       "      <td>Action,Adventure,Sci-Fi</td>\n",
       "      <td>A group of intergalactic criminals are forced ...</td>\n",
       "      <td>James Gunn</td>\n",
       "      <td>Chris Pratt, Vin Diesel, Bradley Cooper, Zoe S...</td>\n",
       "      <td>2014</td>\n",
       "      <td>121</td>\n",
       "      <td>8.10</td>\n",
       "      <td>757074</td>\n",
       "      <td>333.13</td>\n",
       "      <td>76.00</td>\n",
       "    </tr>\n",
       "    <tr>\n",
       "      <th>Prometheus</th>\n",
       "      <td>2</td>\n",
       "      <td>Adventure,Mystery,Sci-Fi</td>\n",
       "      <td>Following clues to the origin of mankind, a te...</td>\n",
       "      <td>Ridley Scott</td>\n",
       "      <td>Noomi Rapace, Logan Marshall-Green, Michael Fa...</td>\n",
       "      <td>2012</td>\n",
       "      <td>124</td>\n",
       "      <td>7.00</td>\n",
       "      <td>485820</td>\n",
       "      <td>126.46</td>\n",
       "      <td>65.00</td>\n",
       "    </tr>\n",
       "    <tr>\n",
       "      <th>Split</th>\n",
       "      <td>3</td>\n",
       "      <td>Horror,Thriller</td>\n",
       "      <td>Three girls are kidnapped by a man with a diag...</td>\n",
       "      <td>M. Night Shyamalan</td>\n",
       "      <td>James McAvoy, Anya Taylor-Joy, Haley Lu Richar...</td>\n",
       "      <td>2016</td>\n",
       "      <td>117</td>\n",
       "      <td>7.30</td>\n",
       "      <td>157606</td>\n",
       "      <td>138.12</td>\n",
       "      <td>62.00</td>\n",
       "    </tr>\n",
       "    <tr>\n",
       "      <th>Sing</th>\n",
       "      <td>4</td>\n",
       "      <td>Animation,Comedy,Family</td>\n",
       "      <td>In a city of humanoid animals, a hustling thea...</td>\n",
       "      <td>Christophe Lourdelet</td>\n",
       "      <td>Matthew McConaughey,Reese Witherspoon, Seth Ma...</td>\n",
       "      <td>2016</td>\n",
       "      <td>108</td>\n",
       "      <td>7.20</td>\n",
       "      <td>60545</td>\n",
       "      <td>270.32</td>\n",
       "      <td>59.00</td>\n",
       "    </tr>\n",
       "    <tr>\n",
       "      <th>Suicide Squad</th>\n",
       "      <td>5</td>\n",
       "      <td>Action,Adventure,Fantasy</td>\n",
       "      <td>A secret government agency recruits some of th...</td>\n",
       "      <td>David Ayer</td>\n",
       "      <td>Will Smith, Jared Leto, Margot Robbie, Viola D...</td>\n",
       "      <td>2016</td>\n",
       "      <td>123</td>\n",
       "      <td>6.20</td>\n",
       "      <td>393727</td>\n",
       "      <td>325.02</td>\n",
       "      <td>40.00</td>\n",
       "    </tr>\n",
       "    <tr>\n",
       "      <th>...</th>\n",
       "      <td>...</td>\n",
       "      <td>...</td>\n",
       "      <td>...</td>\n",
       "      <td>...</td>\n",
       "      <td>...</td>\n",
       "      <td>...</td>\n",
       "      <td>...</td>\n",
       "      <td>...</td>\n",
       "      <td>...</td>\n",
       "      <td>...</td>\n",
       "      <td>...</td>\n",
       "    </tr>\n",
       "    <tr>\n",
       "      <th>Secret in Their Eyes</th>\n",
       "      <td>996</td>\n",
       "      <td>Crime,Drama,Mystery</td>\n",
       "      <td>A tight-knit team of rising investigators, alo...</td>\n",
       "      <td>Billy Ray</td>\n",
       "      <td>Chiwetel Ejiofor, Nicole Kidman, Julia Roberts...</td>\n",
       "      <td>2015</td>\n",
       "      <td>111</td>\n",
       "      <td>6.20</td>\n",
       "      <td>27585</td>\n",
       "      <td>82.96</td>\n",
       "      <td>45.00</td>\n",
       "    </tr>\n",
       "    <tr>\n",
       "      <th>Hostel: Part II</th>\n",
       "      <td>997</td>\n",
       "      <td>Horror</td>\n",
       "      <td>Three American college students studying abroa...</td>\n",
       "      <td>Eli Roth</td>\n",
       "      <td>Lauren German, Heather Matarazzo, Bijou Philli...</td>\n",
       "      <td>2007</td>\n",
       "      <td>94</td>\n",
       "      <td>5.50</td>\n",
       "      <td>73152</td>\n",
       "      <td>17.54</td>\n",
       "      <td>46.00</td>\n",
       "    </tr>\n",
       "    <tr>\n",
       "      <th>Step Up 2: The Streets</th>\n",
       "      <td>998</td>\n",
       "      <td>Drama,Music,Romance</td>\n",
       "      <td>Romantic sparks occur between two dance studen...</td>\n",
       "      <td>Jon M. Chu</td>\n",
       "      <td>Robert Hoffman, Briana Evigan, Cassie Ventura,...</td>\n",
       "      <td>2008</td>\n",
       "      <td>98</td>\n",
       "      <td>6.20</td>\n",
       "      <td>70699</td>\n",
       "      <td>58.01</td>\n",
       "      <td>50.00</td>\n",
       "    </tr>\n",
       "    <tr>\n",
       "      <th>Search Party</th>\n",
       "      <td>999</td>\n",
       "      <td>Adventure,Comedy</td>\n",
       "      <td>A pair of friends embark on a mission to reuni...</td>\n",
       "      <td>Scot Armstrong</td>\n",
       "      <td>Adam Pally, T.J. Miller, Thomas Middleditch,Sh...</td>\n",
       "      <td>2014</td>\n",
       "      <td>93</td>\n",
       "      <td>5.60</td>\n",
       "      <td>4881</td>\n",
       "      <td>82.96</td>\n",
       "      <td>22.00</td>\n",
       "    </tr>\n",
       "    <tr>\n",
       "      <th>Nine Lives</th>\n",
       "      <td>1000</td>\n",
       "      <td>Comedy,Family,Fantasy</td>\n",
       "      <td>A stuffy businessman finds himself trapped ins...</td>\n",
       "      <td>Barry Sonnenfeld</td>\n",
       "      <td>Kevin Spacey, Jennifer Garner, Robbie Amell,Ch...</td>\n",
       "      <td>2016</td>\n",
       "      <td>87</td>\n",
       "      <td>5.30</td>\n",
       "      <td>12435</td>\n",
       "      <td>19.64</td>\n",
       "      <td>11.00</td>\n",
       "    </tr>\n",
       "  </tbody>\n",
       "</table>\n",
       "<p>936 rows × 11 columns</p>\n",
       "</div>"
      ],
      "text/plain": [
       "                         rank                     genre  \\\n",
       "Title                                                     \n",
       "Guardians of the Galaxy     1   Action,Adventure,Sci-Fi   \n",
       "Prometheus                  2  Adventure,Mystery,Sci-Fi   \n",
       "Split                       3           Horror,Thriller   \n",
       "Sing                        4   Animation,Comedy,Family   \n",
       "Suicide Squad               5  Action,Adventure,Fantasy   \n",
       "...                       ...                       ...   \n",
       "Secret in Their Eyes      996       Crime,Drama,Mystery   \n",
       "Hostel: Part II           997                    Horror   \n",
       "Step Up 2: The Streets    998       Drama,Music,Romance   \n",
       "Search Party              999          Adventure,Comedy   \n",
       "Nine Lives               1000     Comedy,Family,Fantasy   \n",
       "\n",
       "                                                               description  \\\n",
       "Title                                                                        \n",
       "Guardians of the Galaxy  A group of intergalactic criminals are forced ...   \n",
       "Prometheus               Following clues to the origin of mankind, a te...   \n",
       "Split                    Three girls are kidnapped by a man with a diag...   \n",
       "Sing                     In a city of humanoid animals, a hustling thea...   \n",
       "Suicide Squad            A secret government agency recruits some of th...   \n",
       "...                                                                    ...   \n",
       "Secret in Their Eyes     A tight-knit team of rising investigators, alo...   \n",
       "Hostel: Part II          Three American college students studying abroa...   \n",
       "Step Up 2: The Streets   Romantic sparks occur between two dance studen...   \n",
       "Search Party             A pair of friends embark on a mission to reuni...   \n",
       "Nine Lives               A stuffy businessman finds himself trapped ins...   \n",
       "\n",
       "                                     director  \\\n",
       "Title                                           \n",
       "Guardians of the Galaxy            James Gunn   \n",
       "Prometheus                       Ridley Scott   \n",
       "Split                      M. Night Shyamalan   \n",
       "Sing                     Christophe Lourdelet   \n",
       "Suicide Squad                      David Ayer   \n",
       "...                                       ...   \n",
       "Secret in Their Eyes                Billy Ray   \n",
       "Hostel: Part II                      Eli Roth   \n",
       "Step Up 2: The Streets             Jon M. Chu   \n",
       "Search Party                   Scot Armstrong   \n",
       "Nine Lives                   Barry Sonnenfeld   \n",
       "\n",
       "                                                                    actors  \\\n",
       "Title                                                                        \n",
       "Guardians of the Galaxy  Chris Pratt, Vin Diesel, Bradley Cooper, Zoe S...   \n",
       "Prometheus               Noomi Rapace, Logan Marshall-Green, Michael Fa...   \n",
       "Split                    James McAvoy, Anya Taylor-Joy, Haley Lu Richar...   \n",
       "Sing                     Matthew McConaughey,Reese Witherspoon, Seth Ma...   \n",
       "Suicide Squad            Will Smith, Jared Leto, Margot Robbie, Viola D...   \n",
       "...                                                                    ...   \n",
       "Secret in Their Eyes     Chiwetel Ejiofor, Nicole Kidman, Julia Roberts...   \n",
       "Hostel: Part II          Lauren German, Heather Matarazzo, Bijou Philli...   \n",
       "Step Up 2: The Streets   Robert Hoffman, Briana Evigan, Cassie Ventura,...   \n",
       "Search Party             Adam Pally, T.J. Miller, Thomas Middleditch,Sh...   \n",
       "Nine Lives               Kevin Spacey, Jennifer Garner, Robbie Amell,Ch...   \n",
       "\n",
       "                         year  runtime  rating   votes  revenue  metascore  \n",
       "Title                                                                       \n",
       "Guardians of the Galaxy  2014      121    8.10  757074   333.13      76.00  \n",
       "Prometheus               2012      124    7.00  485820   126.46      65.00  \n",
       "Split                    2016      117    7.30  157606   138.12      62.00  \n",
       "Sing                     2016      108    7.20   60545   270.32      59.00  \n",
       "Suicide Squad            2016      123    6.20  393727   325.02      40.00  \n",
       "...                       ...      ...     ...     ...      ...        ...  \n",
       "Secret in Their Eyes     2015      111    6.20   27585    82.96      45.00  \n",
       "Hostel: Part II          2007       94    5.50   73152    17.54      46.00  \n",
       "Step Up 2: The Streets   2008       98    6.20   70699    58.01      50.00  \n",
       "Search Party             2014       93    5.60    4881    82.96      22.00  \n",
       "Nine Lives               2016       87    5.30   12435    19.64      11.00  \n",
       "\n",
       "[936 rows x 11 columns]"
      ]
     },
     "execution_count": 37,
     "metadata": {},
     "output_type": "execute_result"
    }
   ],
   "source": [
    "df"
   ]
  },
  {
   "cell_type": "code",
   "execution_count": 38,
   "id": "c68d4d3c",
   "metadata": {},
   "outputs": [
    {
     "data": {
      "text/html": [
       "<div>\n",
       "<style scoped>\n",
       "    .dataframe tbody tr th:only-of-type {\n",
       "        vertical-align: middle;\n",
       "    }\n",
       "\n",
       "    .dataframe tbody tr th {\n",
       "        vertical-align: top;\n",
       "    }\n",
       "\n",
       "    .dataframe thead th {\n",
       "        text-align: right;\n",
       "    }\n",
       "</style>\n",
       "<table border=\"1\" class=\"dataframe\">\n",
       "  <thead>\n",
       "    <tr style=\"text-align: right;\">\n",
       "      <th></th>\n",
       "      <th>rank</th>\n",
       "      <th>year</th>\n",
       "      <th>runtime</th>\n",
       "      <th>rating</th>\n",
       "      <th>votes</th>\n",
       "      <th>revenue</th>\n",
       "      <th>metascore</th>\n",
       "    </tr>\n",
       "    <tr>\n",
       "      <th>Title</th>\n",
       "      <th></th>\n",
       "      <th></th>\n",
       "      <th></th>\n",
       "      <th></th>\n",
       "      <th></th>\n",
       "      <th></th>\n",
       "      <th></th>\n",
       "    </tr>\n",
       "  </thead>\n",
       "  <tbody>\n",
       "    <tr>\n",
       "      <th>Guardians of the Galaxy</th>\n",
       "      <td>1</td>\n",
       "      <td>2014</td>\n",
       "      <td>121</td>\n",
       "      <td>8.10</td>\n",
       "      <td>757074</td>\n",
       "      <td>333.13</td>\n",
       "      <td>76.00</td>\n",
       "    </tr>\n",
       "    <tr>\n",
       "      <th>Prometheus</th>\n",
       "      <td>2</td>\n",
       "      <td>2012</td>\n",
       "      <td>124</td>\n",
       "      <td>7.00</td>\n",
       "      <td>485820</td>\n",
       "      <td>126.46</td>\n",
       "      <td>65.00</td>\n",
       "    </tr>\n",
       "    <tr>\n",
       "      <th>Split</th>\n",
       "      <td>3</td>\n",
       "      <td>2016</td>\n",
       "      <td>117</td>\n",
       "      <td>7.30</td>\n",
       "      <td>157606</td>\n",
       "      <td>138.12</td>\n",
       "      <td>62.00</td>\n",
       "    </tr>\n",
       "    <tr>\n",
       "      <th>Sing</th>\n",
       "      <td>4</td>\n",
       "      <td>2016</td>\n",
       "      <td>108</td>\n",
       "      <td>7.20</td>\n",
       "      <td>60545</td>\n",
       "      <td>270.32</td>\n",
       "      <td>59.00</td>\n",
       "    </tr>\n",
       "    <tr>\n",
       "      <th>Suicide Squad</th>\n",
       "      <td>5</td>\n",
       "      <td>2016</td>\n",
       "      <td>123</td>\n",
       "      <td>6.20</td>\n",
       "      <td>393727</td>\n",
       "      <td>325.02</td>\n",
       "      <td>40.00</td>\n",
       "    </tr>\n",
       "    <tr>\n",
       "      <th>...</th>\n",
       "      <td>...</td>\n",
       "      <td>...</td>\n",
       "      <td>...</td>\n",
       "      <td>...</td>\n",
       "      <td>...</td>\n",
       "      <td>...</td>\n",
       "      <td>...</td>\n",
       "    </tr>\n",
       "    <tr>\n",
       "      <th>Secret in Their Eyes</th>\n",
       "      <td>996</td>\n",
       "      <td>2015</td>\n",
       "      <td>111</td>\n",
       "      <td>6.20</td>\n",
       "      <td>27585</td>\n",
       "      <td>82.96</td>\n",
       "      <td>45.00</td>\n",
       "    </tr>\n",
       "    <tr>\n",
       "      <th>Hostel: Part II</th>\n",
       "      <td>997</td>\n",
       "      <td>2007</td>\n",
       "      <td>94</td>\n",
       "      <td>5.50</td>\n",
       "      <td>73152</td>\n",
       "      <td>17.54</td>\n",
       "      <td>46.00</td>\n",
       "    </tr>\n",
       "    <tr>\n",
       "      <th>Step Up 2: The Streets</th>\n",
       "      <td>998</td>\n",
       "      <td>2008</td>\n",
       "      <td>98</td>\n",
       "      <td>6.20</td>\n",
       "      <td>70699</td>\n",
       "      <td>58.01</td>\n",
       "      <td>50.00</td>\n",
       "    </tr>\n",
       "    <tr>\n",
       "      <th>Search Party</th>\n",
       "      <td>999</td>\n",
       "      <td>2014</td>\n",
       "      <td>93</td>\n",
       "      <td>5.60</td>\n",
       "      <td>4881</td>\n",
       "      <td>82.96</td>\n",
       "      <td>22.00</td>\n",
       "    </tr>\n",
       "    <tr>\n",
       "      <th>Nine Lives</th>\n",
       "      <td>1000</td>\n",
       "      <td>2016</td>\n",
       "      <td>87</td>\n",
       "      <td>5.30</td>\n",
       "      <td>12435</td>\n",
       "      <td>19.64</td>\n",
       "      <td>11.00</td>\n",
       "    </tr>\n",
       "  </tbody>\n",
       "</table>\n",
       "<p>936 rows × 7 columns</p>\n",
       "</div>"
      ],
      "text/plain": [
       "                         rank  year  runtime  rating   votes  revenue  \\\n",
       "Title                                                                   \n",
       "Guardians of the Galaxy     1  2014      121    8.10  757074   333.13   \n",
       "Prometheus                  2  2012      124    7.00  485820   126.46   \n",
       "Split                       3  2016      117    7.30  157606   138.12   \n",
       "Sing                        4  2016      108    7.20   60545   270.32   \n",
       "Suicide Squad               5  2016      123    6.20  393727   325.02   \n",
       "...                       ...   ...      ...     ...     ...      ...   \n",
       "Secret in Their Eyes      996  2015      111    6.20   27585    82.96   \n",
       "Hostel: Part II           997  2007       94    5.50   73152    17.54   \n",
       "Step Up 2: The Streets    998  2008       98    6.20   70699    58.01   \n",
       "Search Party              999  2014       93    5.60    4881    82.96   \n",
       "Nine Lives               1000  2016       87    5.30   12435    19.64   \n",
       "\n",
       "                         metascore  \n",
       "Title                               \n",
       "Guardians of the Galaxy      76.00  \n",
       "Prometheus                   65.00  \n",
       "Split                        62.00  \n",
       "Sing                         59.00  \n",
       "Suicide Squad                40.00  \n",
       "...                            ...  \n",
       "Secret in Their Eyes         45.00  \n",
       "Hostel: Part II              46.00  \n",
       "Step Up 2: The Streets       50.00  \n",
       "Search Party                 22.00  \n",
       "Nine Lives                   11.00  \n",
       "\n",
       "[936 rows x 7 columns]"
      ]
     },
     "execution_count": 38,
     "metadata": {},
     "output_type": "execute_result"
    }
   ],
   "source": [
    "df.select_dtypes(exclude=\"object\")"
   ]
  },
  {
   "cell_type": "code",
   "execution_count": 39,
   "id": "18be4c73",
   "metadata": {},
   "outputs": [],
   "source": [
    "numeric_df = df.select_dtypes(exclude=\"object\")"
   ]
  },
  {
   "cell_type": "markdown",
   "id": "65e0603f",
   "metadata": {},
   "source": [
    "We calculate the correlation matrix and visualize it with a heatmap.\n",
    "\n",
    "**sns.set(font_scale=1.2)**\n",
    "**plt.figure(figsize=(10, 8))**\n",
    "\n",
    "These lines set the font size for the plot and adjust the dimensions of the plot.\n",
    "\n",
    "**corr = movies[['rank', 'year', 'runtime', 'rating', 'votes', 'revenue_millions', 'metascore']].corr()**\n",
    "\n",
    "This line calculates the correlation matrix between the selected columns from the `movies` DataFrame. Correlation measures the strength and direction of the relationship between two variables.\n",
    "\n",
    "**sns.heatmap(corr, annot=True, cmap='coolwarm')**\n",
    "\n",
    "This line visualizes the calculated correlation matrix with a heatmap.\n",
    "\n",
    "- `annot=True`: Displays the value in each cell.\n",
    "- `cmap='coolwarm'`: Defines the color palette.\n",
    "\n",
    "**plt.title('Revenue and Meta Score Correlation', fontsize=18)**\n",
    "**plt.show()**\n",
    "\n",
    "These lines add a title to the plot and display the plot.\n",
    "\n",
    "This code snippet is useful for understanding relationships between specific variables. For example, a positive correlation indicates that as one variable increases, the other variable also increases, while a negative correlation indicates that as one variable increases, the other variable decreases."
   ]
  },
  {
   "cell_type": "code",
   "execution_count": 40,
   "id": "361fc79b",
   "metadata": {},
   "outputs": [
    {
     "data": {
      "image/png": "[encoded data removed]",
      "text/plain": [
       "<Figure size 1000x800 with 2 Axes>"
      ]
     },
     "metadata": {},
     "output_type": "display_data"
    }
   ],
   "source": [
    "plt.figure(figsize=(10, 8))\n",
    "# Correlation matrix between 'revenue_millions' and 'meta_score'\n",
    "numeric_df = df.select_dtypes(exclude=\"object\")\n",
    "# Heatmap visualization\n",
    "sns.heatmap(numeric_df.corr(), annot=True,cmap='coolwarm')\n",
    "plt.title('Revenue and Meta Score Korelasyonu', fontsize=18)\n",
    "plt.show()"
   ]
  },
  {
   "cell_type": "markdown",
   "id": "5b40f399",
   "metadata": {},
   "source": [
    "### b. Seaborn ile oyunculardan birden fazla filmde rol alan oyuncuların rol aldıkları film sayılarına göre ilk 20 oyucuyu görselleştir.  \n",
    "\n",
    "**Not: Bu soru için kullanılacak data setimiz 936 satırlık data seti olacak.**"
   ]
  },
  {
   "cell_type": "markdown",
   "id": "0858dbb5",
   "metadata": {},
   "source": [
    "The **Counter** class is imported from the collections module. Counter is used to count the occurrences of hashable objects, essentially functioning as a frequency counter.\n",
    "\n",
    "**actors_counter = Counter():** Here, an empty Counter object named `actors_counter` is created.\n",
    "\n",
    "**for actors in movies['actors']:\n",
    "    actors_list = [actor.strip() for actor in actors.split(',')]\n",
    "    actors_counter.update(actors_list)**\n",
    "\n",
    "This loop is applied to each row (film) in the \"actors\" column of the `movies` DataFrame. The actor names in each row are split by commas, each name is stripped of any leading or trailing whitespace, and placed into a list. Then, the `actors_counter` object is updated with this list, incrementing the count for each actor.\n",
    "\n",
    "**top_actors = actors_counter.most_common(20)**: The `most_common` method sorts the elements in `actors_counter` from most common to least common and returns the top 20. `top_actors` becomes a list of tuples, where each tuple is: (actor_name, movie_count)\n",
    "\n",
    "This shows the top 20 actors who have appeared in the most films, along with the number of films they have appeared in."
   ]
  },
  {
   "cell_type": "code",
   "execution_count": 41,
   "id": "90b62242",
   "metadata": {},
   "outputs": [
    {
     "data": {
      "text/plain": [
       "[('Mark Wahlberg', 15),\n",
       " ('Hugh Jackman', 14),\n",
       " ('Christian Bale', 13),\n",
       " ('Brad Pitt', 13),\n",
       " ('Michael Fassbender', 12),\n",
       " ('Scarlett Johansson', 12),\n",
       " ('Anne Hathaway', 12),\n",
       " ('Robert Downey Jr.', 12),\n",
       " ('Bradley Cooper', 11),\n",
       " ('Jake Gyllenhaal', 11),\n",
       " ('Seth Rogen', 11),\n",
       " ('Johnny Depp', 11),\n",
       " ('Tom Hardy', 11),\n",
       " ('Cate Blanchett', 11),\n",
       " ('Chloë Grace Moretz', 11),\n",
       " ('Channing Tatum', 11),\n",
       " ('Ryan Gosling', 10),\n",
       " ('Emma Stone', 10),\n",
       " ('Jennifer Lawrence', 10),\n",
       " ('Dwayne Johnson', 10)]"
      ]
     },
     "execution_count": 41,
     "metadata": {},
     "output_type": "execute_result"
    }
   ],
   "source": [
    "from collections import Counter\n",
    "\n",
    "actors_counter = Counter()\n",
    "\n",
    "for actors in df['actors']:\n",
    "    actors_list = [actor.strip() for actor in actors.split(',')]\n",
    "    actors_counter.update(actors_list)\n",
    "\n",
    "top_actors = actors_counter.most_common(20)\n",
    "top_actors"
   ]
  },
  {
   "cell_type": "code",
   "execution_count": 42,
   "id": "b2dac0d3",
   "metadata": {
    "ExecuteTime": {
     "end_time": "2023-09-24T15:30:22.954302Z",
     "start_time": "2023-09-24T15:30:22.669364Z"
    }
   },
   "outputs": [
    {
     "data": {
      "application/vnd.plotly.v1+json": {
       "config": {
        "plotlyServerURL": "https://plot.ly"
       },
       "data": [
        {
         "hovertemplate": "Title=%{x}<br>revenue=%{y}<br>rating=%{marker.color}<extra></extra>",
         "legendgroup": "",
         "marker": {
          "color": [
           9,
           8.8,
           8.6,
           8.6,
           8.6,
           8.5,
           8.5,
           8.5,
           8.5,
           8.5,
           8.5,
           8.4,
           8.4,
           8.4,
           8.3,
           8.3,
           8.3,
           8.3,
           8.3,
           8.3,
           8.2,
           8.2,
           8.2,
           8.2,
           8.2,
           8.2,
           8.2,
           8.2,
           8.2,
           8.1,
           8.1,
           8.1,
           8.1,
           8.1,
           8.1,
           8.1,
           8.1,
           8.1,
           8.1,
           8.1,
           8.1,
           8.1,
           8.1,
           8.1,
           8.1,
           8.1,
           8.1,
           8.1,
           8.1,
           8.1,
           8.1,
           8.1,
           8.1,
           8.1,
           8,
           8,
           8,
           8,
           8,
           8,
           8,
           8,
           8,
           8,
           8,
           8,
           8,
           8,
           8,
           8,
           8,
           8,
           8,
           7.9,
           7.9,
           7.9,
           7.9,
           7.9,
           7.9,
           7.9,
           7.9,
           7.9,
           7.9,
           7.9,
           7.9,
           7.9,
           7.9,
           7.9,
           7.9,
           7.9,
           7.9,
           7.9,
           7.9,
           7.9,
           7.9,
           7.8,
           7.8,
           7.8,
           7.8,
           7.8,
           7.8,
           7.8,
           7.8,
           7.8,
           7.8,
           7.8,
           7.8,
           7.8,
           7.8,
           7.8,
           7.8,
           7.8,
           7.8,
           7.8,
           7.8,
           7.8,
           7.8,
           7.8,
           7.8,
           7.8,
           7.8,
           7.8,
           7.8,
           7.8,
           7.8,
           7.8,
           7.8,
           7.8,
           7.8,
           7.8,
           7.8,
           7.8,
           7.8,
           7.8,
           7.7,
           7.7,
           7.7,
           7.7,
           7.7,
           7.7,
           7.7,
           7.7,
           7.7,
           7.7,
           7.7,
           7.7,
           7.7,
           7.7,
           7.7,
           7.7,
           7.7,
           7.7,
           7.7,
           7.7,
           7.7,
           7.7,
           7.7,
           7.7,
           7.7,
           7.7,
           7.6,
           7.6,
           7.6,
           7.6,
           7.6,
           7.6,
           7.6,
           7.6,
           7.6,
           7.6,
           7.6,
           7.6,
           7.6,
           7.6,
           7.6,
           7.6,
           7.6,
           7.6,
           7.6,
           7.6,
           7.6,
           7.6,
           7.6,
           7.6,
           7.6,
           7.6,
           7.5,
           7.5,
           7.5,
           7.5,
           7.5,
           7.5,
           7.5,
           7.5,
           7.5,
           7.5,
           7.5,
           7.5,
           7.5,
           7.5,
           7.5,
           7.5,
           7.5,
           7.5,
           7.5,
           7.5,
           7.5,
           7.5,
           7.5,
           7.5,
           7.5,
           7.5,
           7.5,
           7.5,
           7.5,
           7.5,
           7.5,
           7.5,
           7.5,
           7.5,
           7.4,
           7.4,
           7.4,
           7.4,
           7.4,
           7.4,
           7.4,
           7.4,
           7.4,
           7.4,
           7.4,
           7.4,
           7.4,
           7.4,
           7.4,
           7.4,
           7.4,
           7.4,
           7.4,
           7.4,
           7.4,
           7.4,
           7.4,
           7.4,
           7.4,
           7.4,
           7.4,
           7.4,
           7.4,
           7.3
          ],
          "coloraxis": "coloraxis",
          "size": [
           9,
           8.8,
           8.6,
           8.6,
           8.6,
           8.5,
           8.5,
           8.5,
           8.5,
           8.5,
           8.5,
           8.4,
           8.4,
           8.4,
           8.3,
           8.3,
           8.3,
           8.3,
           8.3,
           8.3,
           8.2,
           8.2,
           8.2,
           8.2,
           8.2,
           8.2,
           8.2,
           8.2,
           8.2,
           8.1,
           8.1,
           8.1,
           8.1,
           8.1,
           8.1,
           8.1,
           8.1,
           8.1,
           8.1,
           8.1,
           8.1,
           8.1,
           8.1,
           8.1,
           8.1,
           8.1,
           8.1,
           8.1,
           8.1,
           8.1,
           8.1,
           8.1,
           8.1,
           8.1,
           8,
           8,
           8,
           8,
           8,
           8,
           8,
           8,
           8,
           8,
           8,
           8,
           8,
           8,
           8,
           8,
           8,
           8,
           8,
           7.9,
           7.9,
           7.9,
           7.9,
           7.9,
           7.9,
           7.9,
           7.9,
           7.9,
           7.9,
           7.9,
           7.9,
           7.9,
           7.9,
           7.9,
           7.9,
           7.9,
           7.9,
           7.9,
           7.9,
           7.9,
           7.9,
           7.8,
           7.8,
           7.8,
           7.8,
           7.8,
           7.8,
           7.8,
           7.8,
           7.8,
           7.8,
           7.8,
           7.8,
           7.8,
           7.8,
           7.8,
           7.8,
           7.8,
           7.8,
           7.8,
           7.8,
           7.8,
           7.8,
           7.8,
           7.8,
           7.8,
           7.8,
           7.8,
           7.8,
           7.8,
           7.8,
           7.8,
           7.8,
           7.8,
           7.8,
           7.8,
           7.8,
           7.8,
           7.8,
           7.8,
           7.7,
           7.7,
           7.7,
           7.7,
           7.7,
           7.7,
           7.7,
           7.7,
           7.7,
           7.7,
           7.7,
           7.7,
           7.7,
           7.7,
           7.7,
           7.7,
           7.7,
           7.7,
           7.7,
           7.7,
           7.7,
           7.7,
           7.7,
           7.7,
           7.7,
           7.7,
           7.6,
           7.6,
           7.6,
           7.6,
           7.6,
           7.6,
           7.6,
           7.6,
           7.6,
           7.6,
           7.6,
           7.6,
           7.6,
           7.6,
           7.6,
           7.6,
           7.6,
           7.6,
           7.6,
           7.6,
           7.6,
           7.6,
           7.6,
           7.6,
           7.6,
           7.6,
           7.5,
           7.5,
           7.5,
           7.5,
           7.5,
           7.5,
           7.5,
           7.5,
           7.5,
           7.5,
           7.5,
           7.5,
           7.5,
           7.5,
           7.5,
           7.5,
           7.5,
           7.5,
           7.5,
           7.5,
           7.5,
           7.5,
           7.5,
           7.5,
           7.5,
           7.5,
           7.5,
           7.5,
           7.5,
           7.5,
           7.5,
           7.5,
           7.5,
           7.5,
           7.4,
           7.4,
           7.4,
           7.4,
           7.4,
           7.4,
           7.4,
           7.4,
           7.4,
           7.4,
           7.4,
           7.4,
           7.4,
           7.4,
           7.4,
           7.4,
           7.4,
           7.4,
           7.4,
           7.4,
           7.4,
           7.4,
           7.4,
           7.4,
           7.4,
           7.4,
           7.4,
           7.4,
           7.4,
           7.3
          ],
          "sizemode": "diameter",
          "sizeref": 0.5,
          "symbol": "circle"
         },
         "mode": "markers",
         "name": "",
         "orientation": "v",
         "showlegend": false,
         "type": "scatter",
         "x": [
          "The Dark Knight",
          "Inception",
          "Interstellar",
          "The Intouchables",
          "Kimi no na wa",
          "Whiplash",
          "The Departed",
          "The Dark Knight Rises",
          "The Lives of Others",
          "Taare Zameen Par",
          "The Prestige",
          "Koe no katachi",
          "Django Unchained",
          "3 Idiots",
          "Jagten",
          "La La Land",
          "Inglourious Basterds",
          "Toy Story 3",
          "Paint It Black",
          "Up",
          "PK",
          "The Wolf of Wall Street",
          "Hacksaw Ridge",
          "Incendies",
          "Pan's Labyrinth",
          "Inside Out",
          "El secreto de sus ojos",
          "Warrior",
          "Room",
          "The Imitation Game",
          "Star Wars: Episode VII - The Force Awakens",
          "Lion",
          "How to Train Your Dragon",
          "Mad Max: Fury Road",
          "The Bourne Ultimatum",
          "Mommy",
          "Relatos salvajes",
          "Rush",
          "Hachi: A Dog's Tale",
          "There Will Be Blood",
          "The Grand Budapest Hotel",
          "The Help",
          "Spotlight",
          "Shutter Island",
          "No Country for Old Men",
          "Into the Wild",
          "Guardians of the Galaxy",
          "Zootopia",
          "12 Years a Slave",
          "The Avengers",
          "Harry Potter and the Deathly Hallows: Part 2",
          "Ah-ga-ssi",
          "Gone Girl",
          "Prisoners",
          "Star Trek",
          "The Perks of Being a Wallflower",
          "The King's Speech",
          "Deadpool",
          "The Martian",
          "District 9",
          "The Revenant",
          "Arrival",
          "X-Men: Days of Future Past",
          "Blood Diamond",
          "Dallas Buyers Club",
          "Slumdog Millionaire",
          "Her",
          "Black Swan",
          "Forushande",
          "Casino Royale",
          "Sing Street",
          "The Pursuit of Happyness",
          "Ratatouille",
          "Children of Men",
          "The Hobbit: An Unexpected Journey",
          "In Bruges",
          "How to Train Your Dragon 2",
          "Hunt for the Wilderpeople",
          "Moon",
          "Captain Fantastic",
          "Straight Outta Compton",
          "The Fall",
          "Hot Fuzz",
          "Manchester by the Sea",
          "Life of Pi",
          "Edge of Tomorrow",
          "Captain America: Civil War",
          "Mr. Nobody",
          "Nightcrawler",
          "Rogue One",
          "Kubo and the Two Strings",
          "The Hobbit: The Desolation of Smaug",
          "Iron Man",
          "I, Daniel Blake",
          "Boyhood",
          "Dear Zindagi",
          "X: First Class",
          "Skyfall",
          "Star Trek Into Darkness",
          "Hidden Figures",
          "Little Miss Sunshine",
          "About Time",
          "The Hateful Eight",
          "Avatar",
          "Lucky Number Slevin",
          "The Fault in Our Stars",
          "Moonrise Kingdom",
          "Taken",
          "Tangled",
          "Maudie",
          "Drive",
          "The Fighter",
          "Changeling",
          "La migliore offerta",
          "Fantastic Mr. Fox",
          "The Lego Movie",
          "Gravity",
          "The Boy in the Striped Pyjamas",
          "La vie d'Adèle",
          "Me and Earl and the Dying Girl",
          "Birdman or (The Unexpected Virtue of Ignorance)",
          "The Girl with the Dragon Tattoo",
          "Big Hero 6",
          "The Hangover",
          "Captain America: The Winter Soldier",
          "Silver Linings Playbook",
          "Wreck-It Ralph",
          "Ma vie de Courgette",
          "Apocalypto",
          "Captain Phillips",
          "American Gangster",
          "The Big Short",
          "Män som hatar kvinnor",
          "The Curious Case of Benjamin Button",
          "(500) Days of Summer",
          "Hell or High Water",
          "Argo",
          "Eastern Promises",
          "En man som heter Ove",
          "The Theory of Everything",
          "Despicable Me",
          "300",
          "The Social Network",
          "Seven Pounds",
          "Kingsman: The Secret Service",
          "Midnight in Paris",
          "Harry Potter and the Deathly Hallows: Part 1",
          "Stardust",
          "50/50",
          "Mr. Church",
          "The Blind Side",
          "Ex Machina",
          "Kick-Ass",
          "Zodiac",
          "Coraline",
          "End of Watch",
          "Moana",
          "Zombieland",
          "Perfetti sconosciuti",
          "Gone Baby Gone",
          "Superbad",
          "Les Misérables",
          "The Skin I Live In",
          "Sicario",
          "Doctor Strange",
          "Dawn of the Planet of the Apes",
          "Watchmen",
          "The Hurt Locker",
          "Hunger",
          "La tortue rouge",
          "The Illusionist",
          "Sherlock Holmes",
          "Kung Fu Panda",
          "Creed",
          "Moneyball",
          "The Hunger Games: Catching Fire",
          "Toni Erdmann",
          "Fury",
          "The imposible",
          "The Town",
          "127 Hours",
          "True Grit",
          "Inside Man",
          "Rise of the Planet of the Apes",
          "Bridge of Spies",
          "What We Do in the Shadows",
          "The Jungle Book",
          "Moonlight",
          "Busanhaeng",
          "Bacalaureat",
          "Lone Survivor",
          "Hugo",
          "Babel",
          "Harry Potter and the Half-Blood Prince",
          "Raw (II)",
          "Nocturnal Animals",
          "42",
          "Sherlock Holmes: A Game of Shadows",
          "Sully",
          "We Need to Talk About Kevin",
          "Frozen",
          "Paterson",
          "Predestination",
          "Frantz",
          "The Conjuring",
          "Saving Mr. Banks",
          "A Monster Calls",
          "Source Code",
          "Juno",
          "August Rush",
          "Freedom Writers",
          "Wakefield",
          "Harry Potter and the Order of the Phoenix",
          "The Assassination of Jesse James by the Coward Robert Ford",
          "Brooklyn",
          "Scott Pilgrim vs. the World",
          "Fantastic Beasts and Where to Find Them",
          "Goksung",
          "Perfume: The Story of a Murderer",
          "Cloud Atlas",
          "Avengers: Age of Ultron",
          "Jane Eyre",
          "The Accountant",
          "Eddie the Eagle",
          "Law Abiding Citizen",
          "Crazy, Stupid, Love.",
          "Patriots Day",
          "Queen of Katwe",
          "The Conjuring 2",
          "Me Before You",
          "Mission: Impossible - Rogue Nation",
          "Blue Valentine",
          "Finding Dory",
          "The Nice Guys",
          "20th Century Women",
          "Begin Again",
          "The Edge of Seventeen",
          "Despicable Me 2",
          "Sweeney Todd: The Demon Barber of Fleet Street",
          "The Hobbit: The Battle of the Five Armies",
          "Lincoln",
          "The Judge",
          "Zero Dark Thirty",
          "Across the Universe",
          "A Street Cat Named Bob",
          "Southpaw",
          "Limitless",
          "Mission: Impossible - Ghost Protocol",
          "Looper",
          "I Origins"
         ],
         "xaxis": "x",
         "y": [
          533.32,
          292.57,
          187.99,
          13.18,
          4.68,
          13.09,
          132.37,
          448.13,
          11.28,
          1.2,
          53.08,
          82.95637614678898,
          162.8,
          6.52,
          0.61,
          151.06,
          120.52,
          414.98,
          82.95637614678898,
          292.98,
          10.57,
          116.87,
          67.12,
          6.86,
          37.62,
          356.45,
          20.17,
          13.65,
          14.68,
          91.12,
          936.63,
          51.69,
          217.39,
          153.63,
          227.14,
          3.49,
          3.08,
          26.9,
          82.95637614678898,
          40.22,
          59.07,
          169.71,
          44.99,
          127.97,
          74.27,
          18.35,
          333.13,
          341.26,
          56.67,
          623.28,
          380.96,
          2.01,
          167.74,
          60.96,
          257.7,
          17.74,
          138.8,
          363.02,
          228.43,
          115.65,
          183.64,
          100.5,
          233.91,
          57.37,
          27.3,
          141.32,
          25.56,
          106.95,
          3.4,
          167.01,
          3.23,
          162.59,
          206.44,
          35.29,
          303,
          7.76,
          177,
          5.2,
          5.01,
          5.88,
          161.03,
          2.28,
          23.62,
          47.7,
          124.98,
          100.19,
          408.08,
          82.95637614678898,
          32.28,
          532.17,
          48.02,
          258.36,
          318.3,
          82.95637614678898,
          25.36,
          1.4,
          146.41,
          304.36,
          228.76,
          169.27,
          59.89,
          15.29,
          54.12,
          760.51,
          22.49,
          124.87,
          45.51,
          145,
          200.81,
          82.95637614678898,
          35.05,
          93.57,
          35.71,
          0.09,
          21,
          257.76,
          274.08,
          9.03,
          2.2,
          6.74,
          42.34,
          102.52,
          222.49,
          277.31,
          259.75,
          132.09,
          189.41,
          0.29,
          50.86,
          107.1,
          130.13,
          70.24,
          10.1,
          127.49,
          32.39,
          26.86,
          136.02,
          17.11,
          3.36,
          35.89,
          251.5,
          210.59,
          96.92,
          69.95,
          128.25,
          56.82,
          294.98,
          38.35,
          34.96,
          0.69,
          255.95,
          25.44,
          48.04,
          33.05,
          75.28,
          40.98,
          248.75,
          75.59,
          82.95637614678898,
          20.3,
          121.46,
          148.78,
          3.19,
          46.88,
          232.6,
          208.54,
          107.5,
          15.7,
          0.15,
          0.92,
          39.83,
          209.02,
          215.4,
          109.71,
          75.61,
          424.65,
          1.48,
          85.71,
          19,
          92.17,
          18.33,
          171.03,
          88.5,
          176.74,
          72.31,
          3.33,
          364,
          27.85,
          2.13,
          0.13,
          125.07,
          73.82,
          34.3,
          301.96,
          0.51,
          10.64,
          95,
          186.83,
          125.07,
          1.74,
          400.74,
          2.14,
          82.95637614678898,
          0.86,
          137.39,
          83.3,
          3.73,
          54.7,
          143.49,
          31.66,
          36.58,
          0.01,
          292,
          3.9,
          38.32,
          31.49,
          234.02,
          0.79,
          2.21,
          27.1,
          458.99,
          11.23,
          86.2,
          15.79,
          73.34,
          84.24,
          31.86,
          8.81,
          102.46,
          56.23,
          195,
          9.7,
          486.29,
          36.25,
          5.66,
          16.17,
          14.26,
          368.05,
          52.88,
          255.11,
          182.2,
          47.11,
          95.72,
          24.34,
          0.04,
          52.42,
          79.24,
          209.36,
          66.47,
          0.33
         ],
         "yaxis": "y"
        }
       ],
       "layout": {
        "coloraxis": {
         "colorbar": {
          "title": {
           "text": "rating"
          }
         },
         "colorscale": [
          [
           0,
           "#0d0887"
          ],
          [
           0.1111111111111111,
           "#46039f"
          ],
          [
           0.2222222222222222,
           "#7201a8"
          ],
          [
           0.3333333333333333,
           "#9c179e"
          ],
          [
           0.4444444444444444,
           "#bd3786"
          ],
          [
           0.5555555555555556,
           "#d8576b"
          ],
          [
           0.6666666666666666,
           "#ed7953"
          ],
          [
           0.7777777777777778,
           "#fb9f3a"
          ],
          [
           0.8888888888888888,
           "#fdca26"
          ],
          [
           1,
           "#f0f921"
          ]
         ]
        },
        "height": 800,
        "legend": {
         "itemsizing": "constant",
         "tracegroupgap": 0
        },
        "margin": {
         "t": 60
        },
        "template": {
         "data": {
          "bar": [
           {
            "error_x": {
             "color": "#2a3f5f"
            },
            "error_y": {
             "color": "#2a3f5f"
            },
            "marker": {
             "line": {
              "color": "#E5ECF6",
              "width": 0.5
             },
             "pattern": {
              "fillmode": "overlay",
              "size": 10,
              "solidity": 0.2
             }
            },
            "type": "bar"
           }
          ],
          "barpolar": [
           {
            "marker": {
             "line": {
              "color": "#E5ECF6",
              "width": 0.5
             },
             "pattern": {
              "fillmode": "overlay",
              "size": 10,
              "solidity": 0.2
             }
            },
            "type": "barpolar"
           }
          ],
          "carpet": [
           {
            "aaxis": {
             "endlinecolor": "#2a3f5f",
             "gridcolor": "white",
             "linecolor": "white",
             "minorgridcolor": "white",
             "startlinecolor": "#2a3f5f"
            },
            "baxis": {
             "endlinecolor": "#2a3f5f",
             "gridcolor": "white",
             "linecolor": "white",
             "minorgridcolor": "white",
             "startlinecolor": "#2a3f5f"
            },
            "type": "carpet"
           }
          ],
          "choropleth": [
           {
            "colorbar": {
             "outlinewidth": 0,
             "ticks": ""
            },
            "type": "choropleth"
           }
          ],
          "contour": [
           {
            "colorbar": {
             "outlinewidth": 0,
             "ticks": ""
            },
            "colorscale": [
             [
              0,
              "#0d0887"
             ],
             [
              0.1111111111111111,
              "#46039f"
             ],
             [
              0.2222222222222222,
              "#7201a8"
             ],
             [
              0.3333333333333333,
              "#9c179e"
             ],
             [
              0.4444444444444444,
              "#bd3786"
             ],
             [
              0.5555555555555556,
              "#d8576b"
             ],
             [
              0.6666666666666666,
              "#ed7953"
             ],
             [
              0.7777777777777778,
              "#fb9f3a"
             ],
             [
              0.8888888888888888,
              "#fdca26"
             ],
             [
              1,
              "#f0f921"
             ]
            ],
            "type": "contour"
           }
          ],
          "contourcarpet": [
           {
            "colorbar": {
             "outlinewidth": 0,
             "ticks": ""
            },
            "type": "contourcarpet"
           }
          ],
          "heatmap": [
           {
            "colorbar": {
             "outlinewidth": 0,
             "ticks": ""
            },
            "colorscale": [
             [
              0,
              "#0d0887"
             ],
             [
              0.1111111111111111,
              "#46039f"
             ],
             [
              0.2222222222222222,
              "#7201a8"
             ],
             [
              0.3333333333333333,
              "#9c179e"
             ],
             [
              0.4444444444444444,
              "#bd3786"
             ],
             [
              0.5555555555555556,
              "#d8576b"
             ],
             [
              0.6666666666666666,
              "#ed7953"
             ],
             [
              0.7777777777777778,
              "#fb9f3a"
             ],
             [
              0.8888888888888888,
              "#fdca26"
             ],
             [
              1,
              "#f0f921"
             ]
            ],
            "type": "heatmap"
           }
          ],
          "heatmapgl": [
           {
            "colorbar": {
             "outlinewidth": 0,
             "ticks": ""
            },
            "colorscale": [
             [
              0,
              "#0d0887"
             ],
             [
              0.1111111111111111,
              "#46039f"
             ],
             [
              0.2222222222222222,
              "#7201a8"
             ],
             [
              0.3333333333333333,
              "#9c179e"
             ],
             [
              0.4444444444444444,
              "#bd3786"
             ],
             [
              0.5555555555555556,
              "#d8576b"
             ],
             [
              0.6666666666666666,
              "#ed7953"
             ],
             [
              0.7777777777777778,
              "#fb9f3a"
             ],
             [
              0.8888888888888888,
              "#fdca26"
             ],
             [
              1,
              "#f0f921"
             ]
            ],
            "type": "heatmapgl"
           }
          ],
          "histogram": [
           {
            "marker": {
             "pattern": {
              "fillmode": "overlay",
              "size": 10,
              "solidity": 0.2
             }
            },
            "type": "histogram"
           }
          ],
          "histogram2d": [
           {
            "colorbar": {
             "outlinewidth": 0,
             "ticks": ""
            },
            "colorscale": [
             [
              0,
              "#0d0887"
             ],
             [
              0.1111111111111111,
              "#46039f"
             ],
             [
              0.2222222222222222,
              "#7201a8"
             ],
             [
              0.3333333333333333,
              "#9c179e"
             ],
             [
              0.4444444444444444,
              "#bd3786"
             ],
             [
              0.5555555555555556,
              "#d8576b"
             ],
             [
              0.6666666666666666,
              "#ed7953"
             ],
             [
              0.7777777777777778,
              "#fb9f3a"
             ],
             [
              0.8888888888888888,
              "#fdca26"
             ],
             [
              1,
              "#f0f921"
             ]
            ],
            "type": "histogram2d"
           }
          ],
          "histogram2dcontour": [
           {
            "colorbar": {
             "outlinewidth": 0,
             "ticks": ""
            },
            "colorscale": [
             [
              0,
              "#0d0887"
             ],
             [
              0.1111111111111111,
              "#46039f"
             ],
             [
              0.2222222222222222,
              "#7201a8"
             ],
             [
              0.3333333333333333,
              "#9c179e"
             ],
             [
              0.4444444444444444,
              "#bd3786"
             ],
             [
              0.5555555555555556,
              "#d8576b"
             ],
             [
              0.6666666666666666,
              "#ed7953"
             ],
             [
              0.7777777777777778,
              "#fb9f3a"
             ],
             [
              0.8888888888888888,
              "#fdca26"
             ],
             [
              1,
              "#f0f921"
             ]
            ],
            "type": "histogram2dcontour"
           }
          ],
          "mesh3d": [
           {
            "colorbar": {
             "outlinewidth": 0,
             "ticks": ""
            },
            "type": "mesh3d"
           }
          ],
          "parcoords": [
           {
            "line": {
             "colorbar": {
              "outlinewidth": 0,
              "ticks": ""
             }
            },
            "type": "parcoords"
           }
          ],
          "pie": [
           {
            "automargin": true,
            "type": "pie"
           }
          ],
          "scatter": [
           {
            "fillpattern": {
             "fillmode": "overlay",
             "size": 10,
             "solidity": 0.2
            },
            "type": "scatter"
           }
          ],
          "scatter3d": [
           {
            "line": {
             "colorbar": {
              "outlinewidth": 0,
              "ticks": ""
             }
            },
            "marker": {
             "colorbar": {
              "outlinewidth": 0,
              "ticks": ""
             }
            },
            "type": "scatter3d"
           }
          ],
          "scattercarpet": [
           {
            "marker": {
             "colorbar": {
              "outlinewidth": 0,
              "ticks": ""
             }
            },
            "type": "scattercarpet"
           }
          ],
          "scattergeo": [
           {
            "marker": {
             "colorbar": {
              "outlinewidth": 0,
              "ticks": ""
             }
            },
            "type": "scattergeo"
           }
          ],
          "scattergl": [
           {
            "marker": {
             "colorbar": {
              "outlinewidth": 0,
              "ticks": ""
             }
            },
            "type": "scattergl"
           }
          ],
          "scattermapbox": [
           {
            "marker": {
             "colorbar": {
              "outlinewidth": 0,
              "ticks": ""
             }
            },
            "type": "scattermapbox"
           }
          ],
          "scatterpolar": [
           {
            "marker": {
             "colorbar": {
              "outlinewidth": 0,
              "ticks": ""
             }
            },
            "type": "scatterpolar"
           }
          ],
          "scatterpolargl": [
           {
            "marker": {
             "colorbar": {
              "outlinewidth": 0,
              "ticks": ""
             }
            },
            "type": "scatterpolargl"
           }
          ],
          "scatterternary": [
           {
            "marker": {
             "colorbar": {
              "outlinewidth": 0,
              "ticks": ""
             }
            },
            "type": "scatterternary"
           }
          ],
          "surface": [
           {
            "colorbar": {
             "outlinewidth": 0,
             "ticks": ""
            },
            "colorscale": [
             [
              0,
              "#0d0887"
             ],
             [
              0.1111111111111111,
              "#46039f"
             ],
             [
              0.2222222222222222,
              "#7201a8"
             ],
             [
              0.3333333333333333,
              "#9c179e"
             ],
             [
              0.4444444444444444,
              "#bd3786"
             ],
             [
              0.5555555555555556,
              "#d8576b"
             ],
             [
              0.6666666666666666,
              "#ed7953"
             ],
             [
              0.7777777777777778,
              "#fb9f3a"
             ],
             [
              0.8888888888888888,
              "#fdca26"
             ],
             [
              1,
              "#f0f921"
             ]
            ],
            "type": "surface"
           }
          ],
          "table": [
           {
            "cells": {
             "fill": {
              "color": "#EBF0F8"
             },
             "line": {
              "color": "white"
             }
            },
            "header": {
             "fill": {
              "color": "#C8D4E3"
             },
             "line": {
              "color": "white"
             }
            },
            "type": "table"
           }
          ]
         },
         "layout": {
          "annotationdefaults": {
           "arrowcolor": "#2a3f5f",
           "arrowhead": 0,
           "arrowwidth": 1
          },
          "autotypenumbers": "strict",
          "coloraxis": {
           "colorbar": {
            "outlinewidth": 0,
            "ticks": ""
           }
          },
          "colorscale": {
           "diverging": [
            [
             0,
             "#8e0152"
            ],
            [
             0.1,
             "#c51b7d"
            ],
            [
             0.2,
             "#de77ae"
            ],
            [
             0.3,
             "#f1b6da"
            ],
            [
             0.4,
             "#fde0ef"
            ],
            [
             0.5,
             "#f7f7f7"
            ],
            [
             0.6,
             "#e6f5d0"
            ],
            [
             0.7,
             "#b8e186"
            ],
            [
             0.8,
             "#7fbc41"
            ],
            [
             0.9,
             "#4d9221"
            ],
            [
             1,
             "#276419"
            ]
           ],
           "sequential": [
            [
             0,
             "#0d0887"
            ],
            [
             0.1111111111111111,
             "#46039f"
            ],
            [
             0.2222222222222222,
             "#7201a8"
            ],
            [
             0.3333333333333333,
             "#9c179e"
            ],
            [
             0.4444444444444444,
             "#bd3786"
            ],
            [
             0.5555555555555556,
             "#d8576b"
            ],
            [
             0.6666666666666666,
             "#ed7953"
            ],
            [
             0.7777777777777778,
             "#fb9f3a"
            ],
            [
             0.8888888888888888,
             "#fdca26"
            ],
            [
             1,
             "#f0f921"
            ]
           ],
           "sequentialminus": [
            [
             0,
             "#0d0887"
            ],
            [
             0.1111111111111111,
             "#46039f"
            ],
            [
             0.2222222222222222,
             "#7201a8"
            ],
            [
             0.3333333333333333,
             "#9c179e"
            ],
            [
             0.4444444444444444,
             "#bd3786"
            ],
            [
             0.5555555555555556,
             "#d8576b"
            ],
            [
             0.6666666666666666,
             "#ed7953"
            ],
            [
             0.7777777777777778,
             "#fb9f3a"
            ],
            [
             0.8888888888888888,
             "#fdca26"
            ],
            [
             1,
             "#f0f921"
            ]
           ]
          },
          "colorway": [
           "#636efa",
           "#EF553B",
           "#00cc96",
           "#ab63fa",
           "#FFA15A",
           "#19d3f3",
           "#FF6692",
           "#B6E880",
           "#FF97FF",
           "#FECB52"
          ],
          "font": {
           "color": "#2a3f5f"
          },
          "geo": {
           "bgcolor": "white",
           "lakecolor": "white",
           "landcolor": "#E5ECF6",
           "showlakes": true,
           "showland": true,
           "subunitcolor": "white"
          },
          "hoverlabel": {
           "align": "left"
          },
          "hovermode": "closest",
          "mapbox": {
           "style": "light"
          },
          "paper_bgcolor": "white",
          "plot_bgcolor": "#E5ECF6",
          "polar": {
           "angularaxis": {
            "gridcolor": "white",
            "linecolor": "white",
            "ticks": ""
           },
           "bgcolor": "#E5ECF6",
           "radialaxis": {
            "gridcolor": "white",
            "linecolor": "white",
            "ticks": ""
           }
          },
          "scene": {
           "xaxis": {
            "backgroundcolor": "#E5ECF6",
            "gridcolor": "white",
            "gridwidth": 2,
            "linecolor": "white",
            "showbackground": true,
            "ticks": "",
            "zerolinecolor": "white"
           },
           "yaxis": {
            "backgroundcolor": "#E5ECF6",
            "gridcolor": "white",
            "gridwidth": 2,
            "linecolor": "white",
            "showbackground": true,
            "ticks": "",
            "zerolinecolor": "white"
           },
           "zaxis": {
            "backgroundcolor": "#E5ECF6",
            "gridcolor": "white",
            "gridwidth": 2,
            "linecolor": "white",
            "showbackground": true,
            "ticks": "",
            "zerolinecolor": "white"
           }
          },
          "shapedefaults": {
           "line": {
            "color": "#2a3f5f"
           }
          },
          "ternary": {
           "aaxis": {
            "gridcolor": "white",
            "linecolor": "white",
            "ticks": ""
           },
           "baxis": {
            "gridcolor": "white",
            "linecolor": "white",
            "ticks": ""
           },
           "bgcolor": "#E5ECF6",
           "caxis": {
            "gridcolor": "white",
            "linecolor": "white",
            "ticks": ""
           }
          },
          "title": {
           "x": 0.05
          },
          "xaxis": {
           "automargin": true,
           "gridcolor": "white",
           "linecolor": "white",
           "ticks": "",
           "title": {
            "standoff": 15
           },
           "zerolinecolor": "white",
           "zerolinewidth": 2
          },
          "yaxis": {
           "automargin": true,
           "gridcolor": "white",
           "linecolor": "white",
           "ticks": "",
           "title": {
            "standoff": 15
           },
           "zerolinecolor": "white",
           "zerolinewidth": 2
          }
         }
        },
        "title": {
         "text": "Revenue of Top 250 Movies by Rating Scores",
         "x": 0.5
        },
        "width": 1000,
        "xaxis": {
         "anchor": "y",
         "domain": [
          0,
          1
         ],
         "tickangle": -45,
         "title": {
          "text": "Title"
         }
        },
        "yaxis": {
         "anchor": "x",
         "domain": [
          0,
          1
         ],
         "dtick": 50,
         "range": [
          -10,
          500
         ],
         "title": {
          "text": "Revenue (Millions)"
         }
        }
       }
      }
     },
     "metadata": {},
     "output_type": "display_data"
    }
   ],
   "source": [
    "# Sorting Movies by Rating Scores\n",
    "df = top250.sort_values(\"rating\", ascending=False)\n",
    "\n",
    "# Visualization using Plotly\n",
    "fig = px.scatter(df, x=df.index, y=\"revenue\", size=\"rating\", color=\"rating\")\n",
    "fig.update_layout(title=\"Revenue of Top 250 Movies by Rating Scores\", height=800, width=1000, title_x=0.5, xaxis_tickangle=-45)\n",
    "fig.update_yaxes(title=\"Revenue (Millions)\", range=[-10, 500], dtick=50)\n",
    "fig.update_traces(mode='markers', marker=dict(sizemode='diameter', sizeref=0.5))\n",
    "fig.show()"
   ]
  },
  {
   "cell_type": "markdown",
   "id": "c67cef1b",
   "metadata": {},
   "source": [
    "## 10. Conclusion "
   ]
  }
 ],
 "metadata": {
  "hide_input": false,
  "kernelspec": {
   "display_name": "Python 3 (ipykernel)",
   "language": "python",
   "name": "python3"
  },
  "language_info": {
   "codemirror_mode": {
    "name": "ipython",
    "version": 3
   },
   "file_extension": ".py",
   "mimetype": "text/x-python",
   "name": "python",
   "nbconvert_exporter": "python",
   "pygments_lexer": "ipython3",
   "version": "3.11.7"
  },
  "toc": {
   "base_numbering": 1,
   "nav_menu": {},
   "number_sections": true,
   "sideBar": true,
   "skip_h1_title": false,
   "title_cell": "Table of Contents",
   "title_sidebar": "Contents",
   "toc_cell": false,
   "toc_position": {},
   "toc_section_display": true,
   "toc_window_display": true
  }
 },
 "nbformat": 4,
 "nbformat_minor": 5
}
